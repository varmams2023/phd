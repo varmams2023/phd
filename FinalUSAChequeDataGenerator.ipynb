{
  "nbformat": 4,
  "nbformat_minor": 0,
  "metadata": {
    "colab": {
      "provenance": [],
      "authorship_tag": "ABX9TyPg1m5yZO0ShiAyTVxfNqNQ",
      "include_colab_link": true
    },
    "kernelspec": {
      "name": "python3",
      "display_name": "Python 3"
    },
    "language_info": {
      "name": "python"
    }
  },
  "cells": [
    {
      "cell_type": "markdown",
      "metadata": {
        "id": "view-in-github",
        "colab_type": "text"
      },
      "source": [
        "<a href=\"https://colab.research.google.com/github/varmams2023/phd/blob/main/FinalUSAChequeDataGenerator.ipynb\" target=\"_parent\"><img src=\"https://colab.research.google.com/assets/colab-badge.svg\" alt=\"Open In Colab\"/></a>"
      ]
    },
    {
      "cell_type": "code",
      "execution_count": 4,
      "metadata": {
        "colab": {
          "base_uri": "https://localhost:8080/"
        },
        "id": "anupNJjlhOEj",
        "outputId": "31c3e22a-feb1-4917-996e-6f344b880f4c"
      },
      "outputs": [
        {
          "output_type": "stream",
          "name": "stdout",
          "text": [
            "100,000 cheque records have been generated and saved to 'cheque_data_USA_2024-12-22_08-48-27.csv'.\n"
          ]
        }
      ],
      "source": [
        "import random\n",
        "import string\n",
        "from faker import Faker\n",
        "import csv\n",
        "from datetime import datetime\n",
        "\n",
        "# Initialize Faker instance\n",
        "fake = Faker()\n",
        "\n",
        "# Function to generate cheque data\n",
        "def generate_check_data_v4():\n",
        "    # Sample USA Bank Data (For demonstration purposes)\n",
        "    bank_data = {\n",
        "        \"Country\": \"USA\",\n",
        "        \"Bank\": random.choice([\"Bank of America\", \"Wells Fargo\", \"Chase\", \"Citibank\"]),\n",
        "        \"Branch\": fake.city(),  # Use city as branch name for realistic diversity\n",
        "        \"Payer\": fake.name(),  # Use Faker's name generation\n",
        "        \"Routing\": ''.join(random.choices(string.digits, k=9)),  # ABA routing number (9 digits)\n",
        "        \"SWIFT\": f\"SWIFT{random.randint(100000, 999999)}\",  # Random SWIFT code\n",
        "        \"Account\": ''.join(random.choices(string.digits, k=12)),  # Example account number (12 digits)\n",
        "        \"BookNo\": random.randint(10000, 99999),  # Random 5-digit cheque book number\n",
        "        \"LeafCount\": random.choice([10, 25, 100, 200]),  # Valid leaf count\n",
        "    }\n",
        "\n",
        "    # Generate an 8-digit start check number that ends with 1\n",
        "    check_start = random.randint(10000000, 99999999) - 1\n",
        "    check_start = check_start - (check_start % 10) + 1\n",
        "\n",
        "    # Set the Check Number Start and End based on leaf count\n",
        "    bank_data[\"CheckStart\"] = check_start\n",
        "    bank_data[\"CheckEnd\"] = check_start + bank_data[\"LeafCount\"] - 1\n",
        "\n",
        "    return bank_data\n",
        "\n",
        "# Generate 100,000 cheque records\n",
        "def generate_bulk_check_data(num_records):\n",
        "    return [generate_check_data_v4() for _ in range(num_records)]\n",
        "\n",
        "# Generate the records\n",
        "cheque_data = generate_bulk_check_data(100000)\n",
        "\n",
        "# Get the current timestamp\n",
        "timestamp = datetime.now().strftime(\"%Y-%m-%d_%H-%M-%S\")\n",
        "\n",
        "# Define the output file name with country and timestamp\n",
        "output_filename = f\"cheque_data_USA_{timestamp}.csv\"\n",
        "\n",
        "# Short, informative column titles\n",
        "columns = [\n",
        "    \"Country\", \"Bank\", \"Branch\", \"Payer\", \"Routing\", \"SWIFT\",\n",
        "    \"Account\", \"BookNo\", \"LeafCount\", \"CheckStart\", \"CheckEnd\"\n",
        "]\n",
        "\n",
        "# Save the generated data into a CSV file\n",
        "with open(output_filename, mode='w', newline='') as file:\n",
        "    writer = csv.DictWriter(file, fieldnames=columns)\n",
        "    writer.writeheader()\n",
        "    for record in cheque_data:\n",
        "        # Map the data to the new column names\n",
        "        row = {col: record.get(col) for col in columns}\n",
        "        writer.writerow(row)\n",
        "\n",
        "print(f\"100,000 cheque records have been generated and saved to '{output_filename}'.\")\n"
      ]
    }
  ]
}