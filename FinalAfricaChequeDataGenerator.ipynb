{
  "nbformat": 4,
  "nbformat_minor": 0,
  "metadata": {
    "colab": {
      "provenance": [],
      "authorship_tag": "ABX9TyNq1u21xfLcWB0IZJQXfXTb",
      "include_colab_link": true
    },
    "kernelspec": {
      "name": "python3",
      "display_name": "Python 3"
    },
    "language_info": {
      "name": "python"
    }
  },
  "cells": [
    {
      "cell_type": "markdown",
      "metadata": {
        "id": "view-in-github",
        "colab_type": "text"
      },
      "source": [
        "<a href=\"https://colab.research.google.com/github/varmams2023/phd/blob/main/FinalAfricaChequeDataGenerator.ipynb\" target=\"_parent\"><img src=\"https://colab.research.google.com/assets/colab-badge.svg\" alt=\"Open In Colab\"/></a>"
      ]
    },
    {
      "cell_type": "code",
      "execution_count": 1,
      "metadata": {
        "colab": {
          "base_uri": "https://localhost:8080/",
          "height": 525
        },
        "id": "anupNJjlhOEj",
        "outputId": "6f4ace78-8ce8-4ae4-ef1a-218d6916cb24"
      },
      "outputs": [
        {
          "output_type": "stream",
          "name": "stdout",
          "text": [
            "Collecting faker\n",
            "  Downloading Faker-33.1.0-py3-none-any.whl.metadata (15 kB)\n",
            "Requirement already satisfied: python-dateutil>=2.4 in /usr/local/lib/python3.10/dist-packages (from faker) (2.8.2)\n",
            "Requirement already satisfied: typing-extensions in /usr/local/lib/python3.10/dist-packages (from faker) (4.12.2)\n",
            "Requirement already satisfied: six>=1.5 in /usr/local/lib/python3.10/dist-packages (from python-dateutil>=2.4->faker) (1.17.0)\n",
            "Downloading Faker-33.1.0-py3-none-any.whl (1.9 MB)\n",
            "\u001b[2K   \u001b[90m━━━━━━━━━━━━━━━━━━━━━━━━━━━━━━━━━━━━━━━━\u001b[0m \u001b[32m1.9/1.9 MB\u001b[0m \u001b[31m20.1 MB/s\u001b[0m eta \u001b[36m0:00:00\u001b[0m\n",
            "\u001b[?25hInstalling collected packages: faker\n",
            "Successfully installed faker-33.1.0\n"
          ]
        },
        {
          "output_type": "error",
          "ename": "AttributeError",
          "evalue": "Invalid configuration for faker locale `en_UG`",
          "traceback": [
            "\u001b[0;31m---------------------------------------------------------------------------\u001b[0m",
            "\u001b[0;31mAttributeError\u001b[0m                            Traceback (most recent call last)",
            "\u001b[0;32m<ipython-input-1-eafdd9cb9648>\u001b[0m in \u001b[0;36m<cell line: 9>\u001b[0;34m()\u001b[0m\n\u001b[1;32m      7\u001b[0m \u001b[0;34m\u001b[0m\u001b[0m\n\u001b[1;32m      8\u001b[0m \u001b[0;31m# Initialize Faker instance for Uganda\u001b[0m\u001b[0;34m\u001b[0m\u001b[0;34m\u001b[0m\u001b[0m\n\u001b[0;32m----> 9\u001b[0;31m \u001b[0mfake\u001b[0m \u001b[0;34m=\u001b[0m \u001b[0mFaker\u001b[0m\u001b[0;34m(\u001b[0m\u001b[0;34m'en_UG'\u001b[0m\u001b[0;34m)\u001b[0m  \u001b[0;31m# Set the locale to Uganda for realistic data\u001b[0m\u001b[0;34m\u001b[0m\u001b[0;34m\u001b[0m\u001b[0m\n\u001b[0m\u001b[1;32m     10\u001b[0m \u001b[0;34m\u001b[0m\u001b[0m\n\u001b[1;32m     11\u001b[0m \u001b[0;31m# Function to generate cheque data for Uganda\u001b[0m\u001b[0;34m\u001b[0m\u001b[0;34m\u001b[0m\u001b[0m\n",
            "\u001b[0;32m/usr/local/lib/python3.10/dist-packages/faker/proxy.py\u001b[0m in \u001b[0;36m__init__\u001b[0;34m(self, locale, providers, generator, includes, use_weighting, **config)\u001b[0m\n\u001b[1;32m     70\u001b[0m \u001b[0;34m\u001b[0m\u001b[0m\n\u001b[1;32m     71\u001b[0m         \u001b[0;32mif\u001b[0m \u001b[0mlen\u001b[0m\u001b[0;34m(\u001b[0m\u001b[0mlocales\u001b[0m\u001b[0;34m)\u001b[0m \u001b[0;34m==\u001b[0m \u001b[0;36m1\u001b[0m\u001b[0;34m:\u001b[0m\u001b[0;34m\u001b[0m\u001b[0;34m\u001b[0m\u001b[0m\n\u001b[0;32m---> 72\u001b[0;31m             self._factory_map[locales[0]] = Factory.create(\n\u001b[0m\u001b[1;32m     73\u001b[0m                 \u001b[0mlocales\u001b[0m\u001b[0;34m[\u001b[0m\u001b[0;36m0\u001b[0m\u001b[0;34m]\u001b[0m\u001b[0;34m,\u001b[0m\u001b[0;34m\u001b[0m\u001b[0;34m\u001b[0m\u001b[0m\n\u001b[1;32m     74\u001b[0m                 \u001b[0mproviders\u001b[0m\u001b[0;34m,\u001b[0m\u001b[0;34m\u001b[0m\u001b[0;34m\u001b[0m\u001b[0m\n",
            "\u001b[0;32m/usr/local/lib/python3.10/dist-packages/faker/factory.py\u001b[0m in \u001b[0;36mcreate\u001b[0;34m(cls, locale, providers, generator, includes, use_weighting, **config)\u001b[0m\n\u001b[1;32m     42\u001b[0m         \u001b[0;32mif\u001b[0m \u001b[0mlocale\u001b[0m \u001b[0;32mnot\u001b[0m \u001b[0;32min\u001b[0m \u001b[0mAVAILABLE_LOCALES\u001b[0m\u001b[0;34m:\u001b[0m\u001b[0;34m\u001b[0m\u001b[0;34m\u001b[0m\u001b[0m\n\u001b[1;32m     43\u001b[0m             \u001b[0mmsg\u001b[0m \u001b[0;34m=\u001b[0m \u001b[0;34mf\"Invalid configuration for faker locale `{locale}`\"\u001b[0m\u001b[0;34m\u001b[0m\u001b[0;34m\u001b[0m\u001b[0m\n\u001b[0;32m---> 44\u001b[0;31m             \u001b[0;32mraise\u001b[0m \u001b[0mAttributeError\u001b[0m\u001b[0;34m(\u001b[0m\u001b[0mmsg\u001b[0m\u001b[0;34m)\u001b[0m\u001b[0;34m\u001b[0m\u001b[0;34m\u001b[0m\u001b[0m\n\u001b[0m\u001b[1;32m     45\u001b[0m \u001b[0;34m\u001b[0m\u001b[0m\n\u001b[1;32m     46\u001b[0m         \u001b[0mconfig\u001b[0m\u001b[0;34m[\u001b[0m\u001b[0;34m\"locale\"\u001b[0m\u001b[0;34m]\u001b[0m \u001b[0;34m=\u001b[0m \u001b[0mlocale\u001b[0m\u001b[0;34m\u001b[0m\u001b[0;34m\u001b[0m\u001b[0m\n",
            "\u001b[0;31mAttributeError\u001b[0m: Invalid configuration for faker locale `en_UG`"
          ]
        }
      ],
      "source": [
        "!pip install faker\n",
        "\n",
        "import random\n",
        "import string\n",
        "from faker import Faker\n",
        "import csv\n",
        "from datetime import datetime\n",
        "\n",
        "# Initialize Faker instance for South Africa (en_ZA)\n",
        "fake = Faker('en_ZA')  # Set the locale to South Africa for realistic data\n",
        "\n",
        "# Function to generate cheque data for South Africa\n",
        "def generate_check_data_sa():\n",
        "    # Sample South African Bank Data (For demonstration purposes)\n",
        "    bank_data = {\n",
        "        \"Country\": \"South Africa\",\n",
        "        \"Bank\": random.choice([\n",
        "            \"Standard Bank\",\n",
        "            \"First National Bank\",\n",
        "            \"Absa Bank\",\n",
        "            \"Nedbank\",\n",
        "            \"Capitec Bank\",\n",
        "            \"Investec Bank\"\n",
        "        ]),\n",
        "        \"Branch\": fake.city(),  # Use South African cities as branch names\n",
        "        \"Payer\": fake.name(),  # Use Faker's name generation\n",
        "        \"IFSC\": f\"ZA{random.randint(100000, 999999)}\",  # Random IFSC code with South Africa's country code\n",
        "        \"SWIFT\": f\"SWIFT{random.randint(100000, 999999)}\",  # Random SWIFT code (optional)\n",
        "        \"Account\": ''.join(random.choices(string.digits, k=12)),  # Example account number (12 digits)\n",
        "        \"BookNo\": random.randint(10000, 99999),  # Random 5-digit cheque book number\n",
        "        \"LeafCount\": random.choice([10, 25, 100, 200]),  # Valid leaf count\n",
        "    }\n",
        "\n",
        "    # Generate an 8-digit start check number that ends with 1\n",
        "    check_start = random.randint(10000000, 99999999) - 1\n",
        "    check_start = check_start - (check_start % 10) + 1\n",
        "\n",
        "    # Set the Check Number Start and End based on leaf count\n",
        "    bank_data[\"CheckStart\"] = check_start\n",
        "    bank_data[\"CheckEnd\"] = check_start + bank_data[\"LeafCount\"] - 1\n",
        "\n",
        "    return bank_data\n",
        "\n",
        "# Generate 100,000 cheque records for South Africa\n",
        "def generate_bulk_check_data(num_records):\n",
        "    return [generate_check_data_sa() for _ in range(num_records)]\n",
        "\n",
        "# Generate the records\n",
        "cheque_data = generate_bulk_check_data(100000)\n",
        "\n",
        "# Get the current timestamp\n",
        "timestamp = datetime.now().strftime(\"%Y-%m-%d_%H-%M-%S\")\n",
        "\n",
        "# Define the output file name with country and timestamp\n",
        "output_filename = f\"cheque_data_South_Africa_{timestamp}.csv\"\n",
        "\n",
        "# Short, informative column titles\n",
        "columns = [\n",
        "    \"Country\", \"Bank\", \"Branch\", \"Payer\", \"IFSC\", \"SWIFT\",\n",
        "    \"Account\", \"BookNo\", \"LeafCount\", \"CheckStart\", \"CheckEnd\"\n",
        "]\n",
        "\n",
        "# Save the generated data into a CSV file\n",
        "with open(output_filename, mode='w', newline='') as file:\n",
        "    writer = csv.DictWriter(file, fieldnames=columns)\n",
        "    writer.writeheader()\n",
        "    for record in cheque_data:\n",
        "        # Map the data to the new column names\n",
        "        row = {col: record.get(col) for col in columns}\n",
        "        writer.writerow(row)\n",
        "\n",
        "print(f\"100,000 cheque records have been generated and saved to '{output_filename}'.\")\n",
        "\n",
        "\n"
      ]
    }
  ]
}