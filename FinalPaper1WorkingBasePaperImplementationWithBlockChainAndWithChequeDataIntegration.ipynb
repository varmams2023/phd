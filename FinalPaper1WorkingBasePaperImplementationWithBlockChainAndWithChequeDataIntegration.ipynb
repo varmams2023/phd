{
  "cells": [
    {
      "cell_type": "markdown",
      "metadata": {
        "id": "view-in-github",
        "colab_type": "text"
      },
      "source": [
        "<a href=\"https://colab.research.google.com/github/varmams2023/phd/blob/main/FinalPaper1WorkingBasePaperImplementationWithBlockChainAndWithChequeDataIntegration.ipynb\" target=\"_parent\"><img src=\"https://colab.research.google.com/assets/colab-badge.svg\" alt=\"Open In Colab\"/></a>"
      ]
    },
    {
      "cell_type": "code",
      "execution_count": null,
      "metadata": {
        "colab": {
          "base_uri": "https://localhost:8080/"
        },
        "id": "zCqD9rdnweLZ",
        "outputId": "f6222861-2b7a-41f6-a371-ab136a55f30a"
      },
      "outputs": [
        {
          "output_type": "stream",
          "name": "stdout",
          "text": [
            "Collecting colorama\n",
            "  Downloading colorama-0.4.6-py2.py3-none-any.whl.metadata (17 kB)\n",
            "Downloading colorama-0.4.6-py2.py3-none-any.whl (25 kB)\n",
            "Installing collected packages: colorama\n",
            "Successfully installed colorama-0.4.6\n"
          ]
        }
      ],
      "source": [
        "!pip install colorama  # Install the colorama library"
      ]
    },
    {
      "cell_type": "code",
      "execution_count": null,
      "metadata": {
        "id": "Qh1NWAUmzFFf"
      },
      "outputs": [],
      "source": [
        "import hashlib\n",
        "import json\n",
        "import pandas as pd\n",
        "from time import time\n",
        "from typing import List\n",
        "from colorama import Fore, Style, init\n",
        "from tqdm import tqdm  # For progress bar\n",
        "from google.colab import drive"
      ]
    },
    {
      "cell_type": "code",
      "execution_count": null,
      "metadata": {
        "colab": {
          "base_uri": "https://localhost:8080/"
        },
        "id": "ekBOtSevzKjj",
        "outputId": "8f297dfb-b1fa-4c26-91ce-2eada13da87a"
      },
      "outputs": [
        {
          "output_type": "stream",
          "name": "stdout",
          "text": [
            "Mounted at /content/drive\n"
          ]
        }
      ],
      "source": [
        "# Mount Google Drive to access the CSV file\n",
        "drive.mount('/content/drive')\n",
        "\n",
        "# Initialize colorama for colored outputs\n",
        "init(autoreset=True)"
      ]
    },
    {
      "cell_type": "code",
      "execution_count": null,
      "metadata": {
        "colab": {
          "base_uri": "https://localhost:8080/"
        },
        "id": "RBoZZOuMzQ9w",
        "outputId": "99a49321-2467-4553-cdfa-2beeed73abd4"
      },
      "outputs": [
        {
          "output_type": "stream",
          "name": "stdout",
          "text": [
            "Block Class Initialized.\n"
          ]
        }
      ],
      "source": [
        "# ---- Section 2: Block Class ----\n",
        "\n",
        "class Block:\n",
        "    \"\"\"Class to represent each block in the blockchain.\"\"\"\n",
        "\n",
        "    def __init__(self, index, timestamp, cheque_data, previous_hash):\n",
        "        self.index = index\n",
        "        self.timestamp = timestamp\n",
        "        self.cheque_data = cheque_data\n",
        "        self.previous_hash = previous_hash\n",
        "        self.hash = self.calculate_hash()\n",
        "\n",
        "    def calculate_hash(self):\n",
        "        \"\"\"Calculate the hash of the current block.\"\"\"\n",
        "        block_string = json.dumps(self.__dict__, sort_keys=True)\n",
        "        return hashlib.sha256(block_string.encode()).hexdigest()\n",
        "\n",
        "# Debug: Block Class Initialized\n",
        "print(\"Block Class Initialized.\")"
      ]
    },
    {
      "cell_type": "code",
      "execution_count": null,
      "metadata": {
        "colab": {
          "base_uri": "https://localhost:8080/"
        },
        "id": "atnGFBM3zaI0",
        "outputId": "be2cf8d8-eafb-4a72-9c80-f6df895753e5"
      },
      "outputs": [
        {
          "output_type": "stream",
          "name": "stdout",
          "text": [
            "Blockchain Class Initialized.\n"
          ]
        }
      ],
      "source": [
        "# ---- Section 3: Blockchain Class ----\n",
        "\n",
        "class Blockchain:\n",
        "    \"\"\"Class to handle blockchain operations.\"\"\"\n",
        "\n",
        "    def __init__(self):\n",
        "        self.chain = []\n",
        "        self.pending_cheques = []\n",
        "        self.create_genesis_block()\n",
        "\n",
        "    def create_genesis_block(self):\n",
        "        \"\"\"Create the first block (genesis block).\"\"\"\n",
        "        genesis_block = Block(0, time(), {\"check_number\": \"0\", \"payee_name\": \"Genesis\", \"bank_name\": \"Genesis Bank\", \"account_number\": \"000000\", \"ifsc_code\": \"000000\"}, \"0\")\n",
        "        self.chain.append(genesis_block)\n",
        "\n",
        "    def add_cheque(self, cheque_data):\n",
        "        \"\"\"Add cheque data as a new block to the blockchain.\"\"\"\n",
        "        previous_hash = self.chain[-1].hash\n",
        "        new_block = Block(len(self.chain), time(), cheque_data, previous_hash)\n",
        "        self.chain.append(new_block)\n",
        "        self.pending_cheques = []  # Reset pending cheques after adding\n",
        "\n",
        "    def add_cheques_to_blockchain(self, cheques: List[dict]):\n",
        "        \"\"\"Method to add multiple cheques to the blockchain.\"\"\"\n",
        "        for cheque in tqdm(cheques, desc=\"Adding Cheques to Blockchain\", unit=\"cheque\"):\n",
        "            self.add_cheque(cheque)\n",
        "\n",
        "    def validate_cheque(self, cheque_data):\n",
        "        \"\"\"Validate if the given cheque data exists in the blockchain.\"\"\"\n",
        "        for block in self.chain:\n",
        "            if block.cheque_data == cheque_data:\n",
        "                return True  # Valid cheque data found\n",
        "        return False\n",
        "\n",
        "    def display_chain(self, num_blocks=15):\n",
        "        \"\"\"Display a limited number of blocks from the blockchain.\"\"\"\n",
        "        print(f\"\\nDisplaying first {num_blocks} blocks from the blockchain:\\n\")\n",
        "        for block in self.chain[:num_blocks]:\n",
        "            print(f\"\\n{Fore.GREEN}Block #{block.index} ({Fore.CYAN}{block.timestamp}{Style.RESET_ALL})\")\n",
        "            print(f\"{Fore.YELLOW}Check Number: {block.cheque_data['check_number']}\")\n",
        "            print(f\"{Fore.YELLOW}Payee Name: {block.cheque_data['payee_name']}\")\n",
        "            print(f\"{Fore.YELLOW}Bank Name: {block.cheque_data['bank_name']}\")\n",
        "            print(f\"{Fore.YELLOW}Account Number: {block.cheque_data['account_number']}\")\n",
        "            print(f\"{Fore.YELLOW}IFSC Code: {block.cheque_data['ifsc_code']}\")\n",
        "            print(f\"{Fore.BLUE}Hash: {block.hash}\\n\")\n",
        "\n",
        "    def count_blocks_by_bank(self):\n",
        "        \"\"\"Count the number of blocks grouped by bank.\"\"\"\n",
        "        bank_count = {}\n",
        "        for block in self.chain:\n",
        "            bank_name = block.cheque_data['bank_name']\n",
        "            if bank_name in bank_count:\n",
        "                bank_count[bank_name] += 1\n",
        "            else:\n",
        "                bank_count[bank_name] = 1\n",
        "        return bank_count\n",
        "\n",
        "    def total_blocks(self):\n",
        "        \"\"\"Return the total number of blocks in the blockchain.\"\"\"\n",
        "        return len(self.chain)\n",
        "\n",
        "# Debug: Blockchain Class Initialized\n",
        "print(\"Blockchain Class Initialized.\")"
      ]
    },
    {
      "cell_type": "code",
      "execution_count": null,
      "metadata": {
        "colab": {
          "base_uri": "https://localhost:8080/"
        },
        "id": "GW3SC_vjzg2A",
        "outputId": "1eaef7b1-3e49-4035-f7b1-1c5866bca601"
      },
      "outputs": [
        {
          "output_type": "stream",
          "name": "stdout",
          "text": [
            "Loaded 100000 cheque records from CSV.\n"
          ]
        }
      ],
      "source": [
        "# ---- Section 4: Loading Cheque Data from CSV ----\n",
        "\n",
        "def load_cheque_data_from_csv(file_path: str):\n",
        "    \"\"\"Load cheque data from a CSV file.\"\"\"\n",
        "    df = pd.read_csv(file_path)\n",
        "\n",
        "    # Ensure only relevant columns are selected\n",
        "    cheque_data = df[['CheckNumber', 'AccountNumber', 'PayeeName', 'BankName', 'IFSCCode']]\n",
        "\n",
        "    # Convert the DataFrame into a list of dictionaries\n",
        "    cheque_data_list = cheque_data.rename(columns={\n",
        "        'CheckNumber': 'check_number',\n",
        "        'AccountNumber': 'account_number',\n",
        "        'PayeeName': 'payee_name',\n",
        "        'BankName': 'bank_name',\n",
        "        'IFSCCode': 'ifsc_code'\n",
        "    }).to_dict(orient='records')\n",
        "\n",
        "    return cheque_data_list\n",
        "\n",
        "# File path for the CSV in Google Drive\n",
        "file_path = '/content/drive/MyDrive/phd/dataset/ChequeDataSetFull.csv'\n",
        "\n",
        "# Load cheque data from CSV\n",
        "cheque_data_list = load_cheque_data_from_csv(file_path)\n",
        "\n",
        "# Debug: Data Loaded from CSV\n",
        "print(f\"Loaded {len(cheque_data_list)} cheque records from CSV.\")"
      ]
    },
    {
      "cell_type": "code",
      "execution_count": null,
      "metadata": {
        "colab": {
          "base_uri": "https://localhost:8080/"
        },
        "id": "xRdP0912z0uM",
        "outputId": "7fa1d67d-97eb-4807-b952-54883faab1b0"
      },
      "outputs": [
        {
          "output_type": "stream",
          "name": "stderr",
          "text": [
            "Adding Cheques to Blockchain: 100%|██████████| 100000/100000 [00:01<00:00, 53086.82cheque/s]\n"
          ]
        },
        {
          "output_type": "stream",
          "name": "stdout",
          "text": [
            "Blockchain initialized with 100001 blocks.\n"
          ]
        }
      ],
      "source": [
        "# ---- Section 5: Initialize Blockchain ----\n",
        "\n",
        "# Initialize the blockchain\n",
        "blockchain = Blockchain()\n",
        "\n",
        "# Add cheques to the blockchain\n",
        "blockchain.add_cheques_to_blockchain(cheque_data_list)\n",
        "\n",
        "# Debug: Blockchain Initialized and Cheques Added\n",
        "print(f\"Blockchain initialized with {len(blockchain.chain)} blocks.\")"
      ]
    },
    {
      "cell_type": "code",
      "execution_count": null,
      "metadata": {
        "colab": {
          "background_save": true,
          "base_uri": "https://localhost:8080/"
        },
        "id": "bYYhLo-0em57",
        "outputId": "b31e23a9-261b-47f1-f7bf-4ffba3942030"
      },
      "outputs": [
        {
          "metadata": {
            "tags": null
          },
          "name": "stdout",
          "output_type": "stream",
          "text": [
            "Menu system initialized.\n",
            "\n",
            "Menu:\n",
            "1. Print Blockchain\n",
            "2. Add Block (Manually input cheque data)\n",
            "3. Validate if Cheque is present\n",
            "4. Print Count of Blocks by Bank\n",
            "5. Exit\n",
            "\n",
            "Total Blocks in Blockchain: 100001\n",
            "\n",
            "Count of Blocks by Bank:\n",
            "Genesis Bank: 1 blocks\n",
            "State Bank of India: 20113 blocks\n",
            "ICICI Bank: 19983 blocks\n",
            "Axis Bank: 20118 blocks\n",
            "HDFC Bank: 19894 blocks\n",
            "Bank of Baroda: 19892 blocks\n",
            "\n",
            "Menu:\n",
            "1. Print Blockchain\n",
            "2. Add Block (Manually input cheque data)\n",
            "3. Validate if Cheque is present\n",
            "4. Print Count of Blocks by Bank\n",
            "5. Exit\n",
            "\n",
            "Displaying first 5 blocks from the blockchain:\n",
            "\n",
            "\n",
            "Block #0 (1734765465.9903872)\n",
            "Check Number: 0\n",
            "Payee Name: Genesis\n",
            "Bank Name: Genesis Bank\n",
            "Account Number: 000000\n",
            "IFSC Code: 000000\n",
            "Hash: b3413b1da6330281eb008ee6686a66607f6bd9b970cbb095c83d90113836b8c4\n",
            "\n",
            "\n",
            "Block #1 (1734765466.0023942)\n",
            "Check Number: 65782867\n",
            "Payee Name: Devika Reddy\n",
            "Bank Name: State Bank of India\n",
            "Account Number: 3156841378\n",
            "IFSC Code: SBIN0008572\n",
            "Hash: 88368f1a5b44854bd8bd5a8bd26057c3c05c3fe78776ee3045098696b9ba3fdb\n",
            "\n",
            "\n",
            "Block #2 (1734765466.0028708)\n",
            "Check Number: 56855036\n",
            "Payee Name: Aanya Sharma\n",
            "Bank Name: State Bank of India\n",
            "Account Number: 7130589870\n",
            "IFSC Code: SBIN0008316\n",
            "Hash: 2352e180b1c57251231af05705bf4a9e7b84ac7c0fd751c04df042ee45cb4ff9\n",
            "\n",
            "\n",
            "Block #3 (1734765466.0029056)\n",
            "Check Number: 56982282\n",
            "Payee Name: Arjun Chatterjee\n",
            "Bank Name: State Bank of India\n",
            "Account Number: 6628410133\n",
            "IFSC Code: SBIN0002241\n",
            "Hash: dcba3e1afb1e50a9c28dcce2fe86234d5f9934e5d08839f0ad7b23b837054ba8\n",
            "\n",
            "\n",
            "Block #4 (1734765466.0029294)\n",
            "Check Number: 21181788\n",
            "Payee Name: Ishan Joshi\n",
            "Bank Name: ICICI Bank\n",
            "Account Number: 1985965527\n",
            "IFSC Code: ICIC0005164\n",
            "Hash: 7e4be91c7df4bb24ce455e0414d7a4fdee1eccebee40f8bbc1247d3e124dbb25\n",
            "\n",
            "\n",
            "Menu:\n",
            "1. Print Blockchain\n",
            "2. Add Block (Manually input cheque data)\n",
            "3. Validate if Cheque is present\n",
            "4. Print Count of Blocks by Bank\n",
            "5. Exit\n"
          ]
        }
      ],
      "source": [
        "# ---- Section 6: Menu for User Input ----\n",
        "\n",
        "def display_menu():\n",
        "    \"\"\"Display the menu and handle user input.\"\"\"\n",
        "    while True:\n",
        "        print(\"\\nMenu:\")\n",
        "        print(\"1. Print Blockchain\")\n",
        "        print(\"2. Add Block (Manually input cheque data)\")\n",
        "        print(\"3. Validate if Cheque is present\")\n",
        "        print(\"4. Print Count of Blocks by Bank\")\n",
        "        print(\"5. Exit\")\n",
        "        choice = input(\"Enter your choice (1/2/3/4/5): \")\n",
        "\n",
        "        if choice == '1':\n",
        "            # Take number of blocks to print as input\n",
        "            num_blocks = int(input(\"Enter the number of blocks to display: \"))\n",
        "            blockchain.display_chain(num_blocks=num_blocks)\n",
        "\n",
        "        elif choice == '2':\n",
        "            # Manually input the fields for a new block\n",
        "            check_number = input(\"Enter Check Number: \")\n",
        "            payee_name = input(\"Enter Payee Name: \")\n",
        "            bank_name = input(\"Enter Bank Name: \")\n",
        "            account_number = input(\"Enter Account Number: \")\n",
        "            ifsc_code = input(\"Enter IFSC Code: \")\n",
        "\n",
        "            cheque_data = {\n",
        "                'check_number': check_number,\n",
        "                'payee_name': payee_name,\n",
        "                'bank_name': bank_name,\n",
        "                'account_number': account_number,\n",
        "                'ifsc_code': ifsc_code\n",
        "            }\n",
        "            blockchain.add_cheque(cheque_data)\n",
        "            print(Fore.GREEN + \"Block added successfully!\")\n",
        "\n",
        "        elif choice == '3':\n",
        "            # Manually input the fields for cheque validation\n",
        "            check_number = input(\"Enter Check Number: \")\n",
        "            payee_name = input(\"Enter Payee Name: \")\n",
        "            bank_name = input(\"Enter Bank Name: \")\n",
        "            account_number = input(\"Enter Account Number: \")\n",
        "            ifsc_code = input(\"Enter IFSC Code: \")\n",
        "\n",
        "            cheque_data = {\n",
        "                'check_number': check_number,\n",
        "                'payee_name': payee_name,\n",
        "                'bank_name': bank_name,\n",
        "                'account_number': account_number,\n",
        "                'ifsc_code': ifsc_code\n",
        "            }\n",
        "            is_valid = blockchain.validate_cheque(cheque_data)\n",
        "            if is_valid:\n",
        "                print(Fore.GREEN + \"Cheque is present in the blockchain.\")\n",
        "            else:\n",
        "                print(Fore.RED + \"Cheque is NOT present in the blockchain.\")\n",
        "\n",
        "        elif choice == '4':\n",
        "            # Print count of blocks grouped by bank and total block count\n",
        "            bank_count = blockchain.count_blocks_by_bank()\n",
        "            total_blocks = blockchain.total_blocks()\n",
        "            print(f\"\\nTotal Blocks in Blockchain: {total_blocks}\")\n",
        "            print(\"\\nCount of Blocks by Bank:\")\n",
        "            for bank, count in bank_count.items():\n",
        "                print(f\"{Fore.YELLOW}{bank}: {count} blocks\")\n",
        "\n",
        "        elif choice == '5':\n",
        "            print(\"Exiting...\")\n",
        "            break\n",
        "        else:\n",
        "            print(Fore.RED + \"Invalid choice. Please try again.\")\n",
        "\n",
        "# Debug: Menu Initialized\n",
        "print(\"Menu system initialized.\")\n",
        "\n",
        "# Start the menu\n",
        "display_menu()"
      ]
    },
    {
      "cell_type": "code",
      "execution_count": null,
      "metadata": {
        "id": "OgePE1Vpy2bp"
      },
      "outputs": [],
      "source": []
    }
  ],
  "metadata": {
    "colab": {
      "provenance": [],
      "authorship_tag": "ABX9TyOeszweBQexhG+aL8/7lk26",
      "include_colab_link": true
    },
    "kernelspec": {
      "display_name": "Python 3",
      "name": "python3"
    },
    "language_info": {
      "name": "python"
    }
  },
  "nbformat": 4,
  "nbformat_minor": 0
}