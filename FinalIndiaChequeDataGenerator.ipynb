{
  "nbformat": 4,
  "nbformat_minor": 0,
  "metadata": {
    "colab": {
      "provenance": [],
      "authorship_tag": "ABX9TyPTpX/+sV1pTI4OpKQw8oAQ",
      "include_colab_link": true
    },
    "kernelspec": {
      "name": "python3",
      "display_name": "Python 3"
    },
    "language_info": {
      "name": "python"
    }
  },
  "cells": [
    {
      "cell_type": "markdown",
      "metadata": {
        "id": "view-in-github",
        "colab_type": "text"
      },
      "source": [
        "<a href=\"https://colab.research.google.com/github/varmams2023/phd/blob/main/FinalIndiaChequeDataGenerator.ipynb\" target=\"_parent\"><img src=\"https://colab.research.google.com/assets/colab-badge.svg\" alt=\"Open In Colab\"/></a>"
      ]
    },
    {
      "cell_type": "code",
      "execution_count": 2,
      "metadata": {
        "colab": {
          "base_uri": "https://localhost:8080/"
        },
        "id": "anupNJjlhOEj",
        "outputId": "f6d7d491-26ab-4bc1-8ade-e1daafb329ed"
      },
      "outputs": [
        {
          "output_type": "stream",
          "name": "stdout",
          "text": [
            "Collecting faker\n",
            "  Downloading Faker-33.1.0-py3-none-any.whl.metadata (15 kB)\n",
            "Requirement already satisfied: python-dateutil>=2.4 in /usr/local/lib/python3.10/dist-packages (from faker) (2.8.2)\n",
            "Requirement already satisfied: typing-extensions in /usr/local/lib/python3.10/dist-packages (from faker) (4.12.2)\n",
            "Requirement already satisfied: six>=1.5 in /usr/local/lib/python3.10/dist-packages (from python-dateutil>=2.4->faker) (1.17.0)\n",
            "Downloading Faker-33.1.0-py3-none-any.whl (1.9 MB)\n",
            "\u001b[2K   \u001b[90m━━━━━━━━━━━━━━━━━━━━━━━━━━━━━━━━━━━━━━━━\u001b[0m \u001b[32m1.9/1.9 MB\u001b[0m \u001b[31m20.7 MB/s\u001b[0m eta \u001b[36m0:00:00\u001b[0m\n",
            "\u001b[?25hInstalling collected packages: faker\n",
            "Successfully installed faker-33.1.0\n",
            "100,000 cheque records have been generated and saved to 'cheque_data_India_2024-12-22_08-57-01.csv'.\n"
          ]
        }
      ],
      "source": [
        "!pip install faker\n",
        "import random\n",
        "import string\n",
        "from faker import Faker\n",
        "import csv\n",
        "from datetime import datetime\n",
        "\n",
        "# Initialize Faker instance\n",
        "fake = Faker('en_IN')  # Set the locale to India for realistic data\n",
        "\n",
        "# Function to generate cheque data\n",
        "def generate_check_data_india():\n",
        "    # Sample India Bank Data (For demonstration purposes)\n",
        "    bank_data = {\n",
        "        \"Country\": \"India\",\n",
        "        \"Bank\": random.choice([\"ICICI Bank\", \"HDFC Bank\", \"SBI\", \"Axis Bank\", \"Kotak Mahindra Bank\"]),\n",
        "        \"Branch\": fake.city(),  # Use Indian cities as branch names\n",
        "        \"Payer\": fake.name(),  # Use Faker's name generation\n",
        "        \"IFSC\": f\"IFSC{random.randint(100000, 999999)}\",  # Random IFSC code\n",
        "        \"SWIFT\": f\"SWIFT{random.randint(100000, 999999)}\",  # Random SWIFT code (optional in India)\n",
        "        \"Account\": ''.join(random.choices(string.digits, k=12)),  # Example account number (12 digits)\n",
        "        \"BookNo\": random.randint(10000, 99999),  # Random 5-digit cheque book number\n",
        "        \"LeafCount\": random.choice([10, 25, 100, 200]),  # Valid leaf count\n",
        "    }\n",
        "\n",
        "    # Generate an 8-digit start check number that ends with 1\n",
        "    check_start = random.randint(10000000, 99999999) - 1\n",
        "    check_start = check_start - (check_start % 10) + 1\n",
        "\n",
        "    # Set the Check Number Start and End based on leaf count\n",
        "    bank_data[\"CheckStart\"] = check_start\n",
        "    bank_data[\"CheckEnd\"] = check_start + bank_data[\"LeafCount\"] - 1\n",
        "\n",
        "    return bank_data\n",
        "\n",
        "# Generate 100,000 cheque records\n",
        "def generate_bulk_check_data(num_records):\n",
        "    return [generate_check_data_india() for _ in range(num_records)]\n",
        "\n",
        "# Generate the records\n",
        "cheque_data = generate_bulk_check_data(100000)\n",
        "\n",
        "# Get the current timestamp\n",
        "timestamp = datetime.now().strftime(\"%Y-%m-%d_%H-%M-%S\")\n",
        "\n",
        "# Define the output file name with country and timestamp\n",
        "output_filename = f\"cheque_data_India_{timestamp}.csv\"\n",
        "\n",
        "# Short, informative column titles\n",
        "columns = [\n",
        "    \"Country\", \"Bank\", \"Branch\", \"Payer\", \"IFSC\", \"SWIFT\",\n",
        "    \"Account\", \"BookNo\", \"LeafCount\", \"CheckStart\", \"CheckEnd\"\n",
        "]\n",
        "\n",
        "# Save the generated data into a CSV file\n",
        "with open(output_filename, mode='w', newline='') as file:\n",
        "    writer = csv.DictWriter(file, fieldnames=columns)\n",
        "    writer.writeheader()\n",
        "    for record in cheque_data:\n",
        "        # Map the data to the new column names\n",
        "        row = {col: record.get(col) for col in columns}\n",
        "        writer.writerow(row)\n",
        "\n",
        "print(f\"100,000 cheque records have been generated and saved to '{output_filename}'.\")\n"
      ]
    }
  ]
}