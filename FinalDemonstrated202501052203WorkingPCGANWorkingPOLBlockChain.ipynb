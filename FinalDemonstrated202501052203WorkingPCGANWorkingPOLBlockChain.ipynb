{
  "cells": [
    {
      "cell_type": "markdown",
      "metadata": {
        "id": "view-in-github",
        "colab_type": "text"
      },
      "source": [
        "<a href=\"https://colab.research.google.com/github/varmams2023/phd/blob/main/FinalDemonstrated202501052203WorkingPCGANWorkingPOLBlockChain.ipynb\" target=\"_parent\"><img src=\"https://colab.research.google.com/assets/colab-badge.svg\" alt=\"Open In Colab\"/></a>"
      ]
    },
    {
      "cell_type": "code",
      "execution_count": 2,
      "metadata": {
        "colab": {
          "base_uri": "https://localhost:8080/",
          "height": 1000
        },
        "id": "tQ7l_pn1UqIz",
        "outputId": "8d5959bd-d57c-455b-ff7a-6064bae81139"
      },
      "outputs": [
        {
          "output_type": "stream",
          "name": "stdout",
          "text": [
            "Max Records to be Loaded from Each Data file (Leave blank to load all):\n",
            "Enter number of records to load (or press Enter for all): 1000\n",
            "Mounting Google Drive...\n",
            "Drive already mounted at /content/drive; to attempt to forcibly remount, call drive.mount(\"/content/drive\", force_remount=True).\n",
            "Loading data from /content/drive/My Drive/020250104PHD/data/USACheckBookData.csv...\n",
            "Loading data from /content/drive/My Drive/020250104PHD/data/CanadaCheckBookData.csv...\n",
            "Loading data from /content/drive/My Drive/020250104PHD/data/IndiaCheckBookData.csv...\n",
            "\n",
            "***************************************\n",
            "\n",
            "Bank Cheque Validation\n",
            "\n",
            "Mantena S Varma, KLU 2102033103:\n",
            "\n",
            "***************************************\n",
            "\n",
            "\n",
            "Menu:\n",
            "1. Print Blockchain\n",
            "2. Add Block (Manually input cheque data)\n",
            "3. Validate Cheque\n",
            "4. Print Count of Blocks by Bank\n",
            "5. Print POL Block Chain Benefits by Bank\n",
            "6. Display Metrics\n",
            "7. Exit\n",
            "\n",
            "\n",
            "Enter your choice: 4\n",
            "Block Count Summary\n",
            "Country: Canada, Bank: TD Canada Trust, Cheque Blocks: 19680, Contribution: 7.93%\n",
            "Country: Canada, Bank: Royal Bank of Canada (RBC), Cheque Blocks: 18220, Contribution: 7.34%\n",
            "Country: India, Bank: Punjab National Bank (PNB), Cheque Blocks: 18050, Contribution: 7.27%\n",
            "Country: USA, Bank: Citibank, Cheque Blocks: 17955, Contribution: 7.23%\n",
            "Country: USA, Bank: U.S. Bank, Cheque Blocks: 17930, Contribution: 7.22%\n",
            "Country: India, Bank: ICICI Bank, Cheque Blocks: 17805, Contribution: 7.17%\n",
            "Country: USA, Bank: Wells Fargo, Cheque Blocks: 16380, Contribution: 6.60%\n",
            "Country: Canada, Bank: Scotiabank, Cheque Blocks: 16305, Contribution: 6.57%\n",
            "Country: India, Bank: State Bank of India (SBI), Cheque Blocks: 16195, Contribution: 6.52%\n",
            "Country: Canada, Bank: CIBC, Cheque Blocks: 16135, Contribution: 6.50%\n",
            "Country: India, Bank: Axis Bank, Cheque Blocks: 15925, Contribution: 6.41%\n",
            "Country: USA, Bank: Bank of America, Cheque Blocks: 15345, Contribution: 6.18%\n",
            "Country: Canada, Bank: Bank of Montreal (BMO), Cheque Blocks: 15255, Contribution: 6.14%\n",
            "Country: USA, Bank: JPMorgan Chase, Cheque Blocks: 14755, Contribution: 5.94%\n",
            "Country: India, Bank: HDFC Bank, Cheque Blocks: 12345, Contribution: 4.97%\n",
            "Overall Block Count: 248280\n",
            "\n",
            "***************************************\n",
            "\n",
            "Bank Cheque Validation\n",
            "\n",
            "Mantena S Varma, KLU 2102033103:\n",
            "\n",
            "***************************************\n",
            "\n",
            "\n",
            "Menu:\n",
            "1. Print Blockchain\n",
            "2. Add Block (Manually input cheque data)\n",
            "3. Validate Cheque\n",
            "4. Print Count of Blocks by Bank\n",
            "5. Print POL Block Chain Benefits by Bank\n",
            "6. Display Metrics\n",
            "7. Exit\n",
            "\n",
            "\n",
            "Enter your choice: 6\n",
            "Mounting Google Drive...\n",
            "Drive already mounted at /content/drive; to attempt to forcibly remount, call drive.mount(\"/content/drive\", force_remount=True).\n",
            "Loading records from /content/drive/My Drive/020250104PHD/data/ChequeDataForValidationForMetrics.csv...\n",
            "Calculating average time for PLBlockChainOnly...\n",
            "Calculating average time for PLBlockChainWithGAN...\n",
            "Running AI Analysis for Routing: 63100277, SWIFT: CITIUS33XXX, Account: 1651274805958, Check Number: 767361\n",
            "Drive already mounted at /content/drive; to attempt to forcibly remount, call drive.mount(\"/content/drive\", force_remount=True).\n",
            "Number of records used for training: 10\n"
          ]
        },
        {
          "output_type": "stream",
          "name": "stderr",
          "text": [
            "/usr/local/lib/python3.10/dist-packages/keras/src/layers/core/dense.py:87: UserWarning: Do not pass an `input_shape`/`input_dim` argument to a layer. When using Sequential models, prefer using an `Input(shape)` object as the first layer in the model instead.\n",
            "  super().__init__(activity_regularizer=activity_regularizer, **kwargs)\n"
          ]
        },
        {
          "output_type": "stream",
          "name": "stdout",
          "text": [
            "\u001b[1m1/1\u001b[0m \u001b[32m━━━━━━━━━━━━━━━━━━━━\u001b[0m\u001b[37m\u001b[0m \u001b[1m0s\u001b[0m 272ms/step\n"
          ]
        },
        {
          "output_type": "stream",
          "name": "stderr",
          "text": [
            "/usr/local/lib/python3.10/dist-packages/keras/src/backend/tensorflow/trainer.py:75: UserWarning: The model does not have any trainable weights.\n",
            "  warnings.warn(\"The model does not have any trainable weights.\")\n"
          ]
        },
        {
          "output_type": "stream",
          "name": "stdout",
          "text": [
            "Epoch 0 | D Loss: 0.7171 | G Loss: 0.7164\n",
            "\u001b[1m1/1\u001b[0m \u001b[32m━━━━━━━━━━━━━━━━━━━━\u001b[0m\u001b[37m\u001b[0m \u001b[1m0s\u001b[0m 20ms/step\n"
          ]
        },
        {
          "output_type": "stream",
          "name": "stderr",
          "text": [
            "WARNING:tensorflow:5 out of the last 5 calls to <function TensorFlowTrainer.make_train_function.<locals>.one_step_on_iterator at 0x7b0adbb4d7e0> triggered tf.function retracing. Tracing is expensive and the excessive number of tracings could be due to (1) creating @tf.function repeatedly in a loop, (2) passing tensors with different shapes, (3) passing Python objects instead of tensors. For (1), please define your @tf.function outside of the loop. For (2), @tf.function has reduce_retracing=True option that can avoid unnecessary retracing. For (3), please refer to https://www.tensorflow.org/guide/function#controlling_retracing and https://www.tensorflow.org/api_docs/python/tf/function for  more details.\n",
            "WARNING:tensorflow:6 out of the last 6 calls to <function TensorFlowTrainer.make_train_function.<locals>.one_step_on_iterator at 0x7b0adbb4f490> triggered tf.function retracing. Tracing is expensive and the excessive number of tracings could be due to (1) creating @tf.function repeatedly in a loop, (2) passing tensors with different shapes, (3) passing Python objects instead of tensors. For (1), please define your @tf.function outside of the loop. For (2), @tf.function has reduce_retracing=True option that can avoid unnecessary retracing. For (3), please refer to https://www.tensorflow.org/guide/function#controlling_retracing and https://www.tensorflow.org/api_docs/python/tf/function for  more details.\n"
          ]
        },
        {
          "output_type": "stream",
          "name": "stdout",
          "text": [
            "Epoch 1 | D Loss: 0.7215 | G Loss: 0.7214\n",
            "\u001b[1m1/1\u001b[0m \u001b[32m━━━━━━━━━━━━━━━━━━━━\u001b[0m\u001b[37m\u001b[0m \u001b[1m0s\u001b[0m 20ms/step\n",
            "Epoch 2 | D Loss: 0.7216 | G Loss: 0.7223\n",
            "\u001b[1m1/1\u001b[0m \u001b[32m━━━━━━━━━━━━━━━━━━━━\u001b[0m\u001b[37m\u001b[0m \u001b[1m0s\u001b[0m 22ms/step\n",
            "Epoch 3 | D Loss: 0.7235 | G Loss: 0.7247\n",
            "\u001b[1m1/1\u001b[0m \u001b[32m━━━━━━━━━━━━━━━━━━━━\u001b[0m\u001b[37m\u001b[0m \u001b[1m0s\u001b[0m 40ms/step\n",
            "Epoch 4 | D Loss: 0.7257 | G Loss: 0.7266\n",
            "\u001b[1m1/1\u001b[0m \u001b[32m━━━━━━━━━━━━━━━━━━━━\u001b[0m\u001b[37m\u001b[0m \u001b[1m0s\u001b[0m 20ms/step\n",
            "Epoch 5 | D Loss: 0.7280 | G Loss: 0.7293\n",
            "\u001b[1m1/1\u001b[0m \u001b[32m━━━━━━━━━━━━━━━━━━━━\u001b[0m\u001b[37m\u001b[0m \u001b[1m0s\u001b[0m 21ms/step\n",
            "Epoch 6 | D Loss: 0.7297 | G Loss: 0.7307\n",
            "\u001b[1m1/1\u001b[0m \u001b[32m━━━━━━━━━━━━━━━━━━━━\u001b[0m\u001b[37m\u001b[0m \u001b[1m0s\u001b[0m 20ms/step\n",
            "Epoch 7 | D Loss: 0.7310 | G Loss: 0.7321\n",
            "\u001b[1m1/1\u001b[0m \u001b[32m━━━━━━━━━━━━━━━━━━━━\u001b[0m\u001b[37m\u001b[0m \u001b[1m0s\u001b[0m 26ms/step\n",
            "Epoch 8 | D Loss: 0.7327 | G Loss: 0.7338\n",
            "\u001b[1m1/1\u001b[0m \u001b[32m━━━━━━━━━━━━━━━━━━━━\u001b[0m\u001b[37m\u001b[0m \u001b[1m0s\u001b[0m 27ms/step\n",
            "Epoch 9 | D Loss: 0.7343 | G Loss: 0.7361\n",
            "\u001b[1m1/1\u001b[0m \u001b[32m━━━━━━━━━━━━━━━━━━━━\u001b[0m\u001b[37m\u001b[0m \u001b[1m0s\u001b[0m 52ms/step\n"
          ]
        },
        {
          "output_type": "stream",
          "name": "stderr",
          "text": [
            "/usr/local/lib/python3.10/dist-packages/sklearn/utils/validation.py:2739: UserWarning: X does not have valid feature names, but MinMaxScaler was fitted with feature names\n",
            "  warnings.warn(\n"
          ]
        },
        {
          "output_type": "stream",
          "name": "stdout",
          "text": [
            "\u001b[1m1/1\u001b[0m \u001b[32m━━━━━━━━━━━━━━━━━━━━\u001b[0m\u001b[37m\u001b[0m \u001b[1m0s\u001b[0m 58ms/step\n",
            "PCGAN Score for the input check: 0.5433\n",
            "Running AI Analysis for Routing: 121000248, SWIFT: WFBIUS6SXXX, Account: 43216289164, Check Number: 862881\n",
            "Drive already mounted at /content/drive; to attempt to forcibly remount, call drive.mount(\"/content/drive\", force_remount=True).\n",
            "Number of records used for training: 10\n"
          ]
        },
        {
          "output_type": "stream",
          "name": "stderr",
          "text": [
            "/usr/local/lib/python3.10/dist-packages/keras/src/layers/core/dense.py:87: UserWarning: Do not pass an `input_shape`/`input_dim` argument to a layer. When using Sequential models, prefer using an `Input(shape)` object as the first layer in the model instead.\n",
            "  super().__init__(activity_regularizer=activity_regularizer, **kwargs)\n"
          ]
        },
        {
          "output_type": "stream",
          "name": "stdout",
          "text": [
            "\u001b[1m1/1\u001b[0m \u001b[32m━━━━━━━━━━━━━━━━━━━━\u001b[0m\u001b[37m\u001b[0m \u001b[1m0s\u001b[0m 94ms/step\n"
          ]
        },
        {
          "output_type": "stream",
          "name": "stderr",
          "text": [
            "/usr/local/lib/python3.10/dist-packages/keras/src/backend/tensorflow/trainer.py:75: UserWarning: The model does not have any trainable weights.\n",
            "  warnings.warn(\"The model does not have any trainable weights.\")\n"
          ]
        },
        {
          "output_type": "stream",
          "name": "stdout",
          "text": [
            "Epoch 0 | D Loss: 0.7271 | G Loss: 0.7108\n",
            "\u001b[1m1/1\u001b[0m \u001b[32m━━━━━━━━━━━━━━━━━━━━\u001b[0m\u001b[37m\u001b[0m \u001b[1m0s\u001b[0m 32ms/step\n",
            "Epoch 1 | D Loss: 0.7179 | G Loss: 0.7138\n",
            "\u001b[1m1/1\u001b[0m \u001b[32m━━━━━━━━━━━━━━━━━━━━\u001b[0m\u001b[37m\u001b[0m \u001b[1m0s\u001b[0m 20ms/step\n",
            "Epoch 2 | D Loss: 0.7191 | G Loss: 0.7174\n",
            "\u001b[1m1/1\u001b[0m \u001b[32m━━━━━━━━━━━━━━━━━━━━\u001b[0m\u001b[37m\u001b[0m \u001b[1m0s\u001b[0m 21ms/step\n",
            "Epoch 3 | D Loss: 0.7200 | G Loss: 0.7185\n",
            "\u001b[1m1/1\u001b[0m \u001b[32m━━━━━━━━━━━━━━━━━━━━\u001b[0m\u001b[37m\u001b[0m \u001b[1m0s\u001b[0m 22ms/step\n",
            "Epoch 4 | D Loss: 0.7216 | G Loss: 0.7201\n",
            "\u001b[1m1/1\u001b[0m \u001b[32m━━━━━━━━━━━━━━━━━━━━\u001b[0m\u001b[37m\u001b[0m \u001b[1m0s\u001b[0m 20ms/step\n",
            "Epoch 5 | D Loss: 0.7226 | G Loss: 0.7213\n",
            "\u001b[1m1/1\u001b[0m \u001b[32m━━━━━━━━━━━━━━━━━━━━\u001b[0m\u001b[37m\u001b[0m \u001b[1m0s\u001b[0m 23ms/step\n",
            "Epoch 6 | D Loss: 0.7237 | G Loss: 0.7229\n",
            "\u001b[1m1/1\u001b[0m \u001b[32m━━━━━━━━━━━━━━━━━━━━\u001b[0m\u001b[37m\u001b[0m \u001b[1m0s\u001b[0m 20ms/step\n",
            "Epoch 7 | D Loss: 0.7244 | G Loss: 0.7237\n",
            "\u001b[1m1/1\u001b[0m \u001b[32m━━━━━━━━━━━━━━━━━━━━\u001b[0m\u001b[37m\u001b[0m \u001b[1m0s\u001b[0m 22ms/step\n",
            "Epoch 8 | D Loss: 0.7243 | G Loss: 0.7238\n",
            "\u001b[1m1/1\u001b[0m \u001b[32m━━━━━━━━━━━━━━━━━━━━\u001b[0m\u001b[37m\u001b[0m \u001b[1m0s\u001b[0m 20ms/step\n",
            "Epoch 9 | D Loss: 0.7250 | G Loss: 0.7248\n",
            "\u001b[1m1/1\u001b[0m \u001b[32m━━━━━━━━━━━━━━━━━━━━\u001b[0m\u001b[37m\u001b[0m \u001b[1m0s\u001b[0m 55ms/step\n"
          ]
        },
        {
          "output_type": "stream",
          "name": "stderr",
          "text": [
            "/usr/local/lib/python3.10/dist-packages/sklearn/utils/validation.py:2739: UserWarning: X does not have valid feature names, but MinMaxScaler was fitted with feature names\n",
            "  warnings.warn(\n"
          ]
        },
        {
          "output_type": "stream",
          "name": "stdout",
          "text": [
            "\u001b[1m1/1\u001b[0m \u001b[32m━━━━━━━━━━━━━━━━━━━━\u001b[0m\u001b[37m\u001b[0m \u001b[1m0s\u001b[0m 56ms/step\n",
            "PCGAN Score for the input check: 0.5121\n",
            "Running AI Analysis for Routing: 121000248, SWIFT: WFBIUS6SXXX, Account: 4107404286806, Check Number: 117741\n",
            "Drive already mounted at /content/drive; to attempt to forcibly remount, call drive.mount(\"/content/drive\", force_remount=True).\n",
            "Number of records used for training: 10\n",
            "\u001b[1m1/1\u001b[0m \u001b[32m━━━━━━━━━━━━━━━━━━━━\u001b[0m\u001b[37m\u001b[0m \u001b[1m0s\u001b[0m 53ms/step\n"
          ]
        },
        {
          "output_type": "stream",
          "name": "stderr",
          "text": [
            "/usr/local/lib/python3.10/dist-packages/keras/src/layers/core/dense.py:87: UserWarning: Do not pass an `input_shape`/`input_dim` argument to a layer. When using Sequential models, prefer using an `Input(shape)` object as the first layer in the model instead.\n",
            "  super().__init__(activity_regularizer=activity_regularizer, **kwargs)\n",
            "/usr/local/lib/python3.10/dist-packages/keras/src/backend/tensorflow/trainer.py:75: UserWarning: The model does not have any trainable weights.\n",
            "  warnings.warn(\"The model does not have any trainable weights.\")\n"
          ]
        },
        {
          "output_type": "stream",
          "name": "stdout",
          "text": [
            "Epoch 0 | D Loss: 0.6858 | G Loss: 0.6833\n",
            "\u001b[1m1/1\u001b[0m \u001b[32m━━━━━━━━━━━━━━━━━━━━\u001b[0m\u001b[37m\u001b[0m \u001b[1m0s\u001b[0m 20ms/step\n",
            "Epoch 1 | D Loss: 0.6868 | G Loss: 0.6858\n",
            "\u001b[1m1/1\u001b[0m \u001b[32m━━━━━━━━━━━━━━━━━━━━\u001b[0m\u001b[37m\u001b[0m \u001b[1m0s\u001b[0m 23ms/step\n",
            "Epoch 2 | D Loss: 0.6887 | G Loss: 0.6880\n",
            "\u001b[1m1/1\u001b[0m \u001b[32m━━━━━━━━━━━━━━━━━━━━\u001b[0m\u001b[37m\u001b[0m \u001b[1m0s\u001b[0m 22ms/step\n",
            "Epoch 3 | D Loss: 0.6876 | G Loss: 0.6871\n",
            "\u001b[1m1/1\u001b[0m \u001b[32m━━━━━━━━━━━━━━━━━━━━\u001b[0m\u001b[37m\u001b[0m \u001b[1m0s\u001b[0m 35ms/step\n",
            "Epoch 4 | D Loss: 0.6875 | G Loss: 0.6881\n",
            "\u001b[1m1/1\u001b[0m \u001b[32m━━━━━━━━━━━━━━━━━━━━\u001b[0m\u001b[37m\u001b[0m \u001b[1m0s\u001b[0m 35ms/step\n",
            "Epoch 5 | D Loss: 0.6878 | G Loss: 0.6881\n",
            "\u001b[1m1/1\u001b[0m \u001b[32m━━━━━━━━━━━━━━━━━━━━\u001b[0m\u001b[37m\u001b[0m \u001b[1m0s\u001b[0m 30ms/step\n",
            "Epoch 6 | D Loss: 0.6898 | G Loss: 0.6900\n",
            "\u001b[1m1/1\u001b[0m \u001b[32m━━━━━━━━━━━━━━━━━━━━\u001b[0m\u001b[37m\u001b[0m \u001b[1m0s\u001b[0m 31ms/step\n",
            "Epoch 7 | D Loss: 0.6899 | G Loss: 0.6902\n",
            "\u001b[1m1/1\u001b[0m \u001b[32m━━━━━━━━━━━━━━━━━━━━\u001b[0m\u001b[37m\u001b[0m \u001b[1m0s\u001b[0m 35ms/step\n",
            "Epoch 8 | D Loss: 0.6914 | G Loss: 0.6918\n",
            "\u001b[1m1/1\u001b[0m \u001b[32m━━━━━━━━━━━━━━━━━━━━\u001b[0m\u001b[37m\u001b[0m \u001b[1m0s\u001b[0m 48ms/step\n",
            "Epoch 9 | D Loss: 0.6927 | G Loss: 0.6932\n",
            "\u001b[1m1/1\u001b[0m \u001b[32m━━━━━━━━━━━━━━━━━━━━\u001b[0m\u001b[37m\u001b[0m \u001b[1m0s\u001b[0m 54ms/step\n"
          ]
        },
        {
          "output_type": "stream",
          "name": "stderr",
          "text": [
            "/usr/local/lib/python3.10/dist-packages/sklearn/utils/validation.py:2739: UserWarning: X does not have valid feature names, but MinMaxScaler was fitted with feature names\n",
            "  warnings.warn(\n"
          ]
        },
        {
          "output_type": "stream",
          "name": "stdout",
          "text": [
            "\u001b[1m1/1\u001b[0m \u001b[32m━━━━━━━━━━━━━━━━━━━━\u001b[0m\u001b[37m\u001b[0m \u001b[1m0s\u001b[0m 55ms/step\n",
            "PCGAN Score for the input check: 0.5113\n",
            "Running AI Analysis for Routing: PUNB0000005, SWIFT: PUNBINBBXXX, Account: 85470928172600, Check Number: 855401\n",
            "Drive already mounted at /content/drive; to attempt to forcibly remount, call drive.mount(\"/content/drive\", force_remount=True).\n",
            "Number of records used for training: 10\n",
            "\u001b[1m1/1\u001b[0m \u001b[32m━━━━━━━━━━━━━━━━━━━━\u001b[0m\u001b[37m\u001b[0m \u001b[1m0s\u001b[0m 55ms/step\n"
          ]
        },
        {
          "output_type": "stream",
          "name": "stderr",
          "text": [
            "/usr/local/lib/python3.10/dist-packages/keras/src/layers/core/dense.py:87: UserWarning: Do not pass an `input_shape`/`input_dim` argument to a layer. When using Sequential models, prefer using an `Input(shape)` object as the first layer in the model instead.\n",
            "  super().__init__(activity_regularizer=activity_regularizer, **kwargs)\n",
            "/usr/local/lib/python3.10/dist-packages/keras/src/backend/tensorflow/trainer.py:75: UserWarning: The model does not have any trainable weights.\n",
            "  warnings.warn(\"The model does not have any trainable weights.\")\n"
          ]
        },
        {
          "output_type": "stream",
          "name": "stdout",
          "text": [
            "Epoch 0 | D Loss: 0.7676 | G Loss: 0.7306\n",
            "\u001b[1m1/1\u001b[0m \u001b[32m━━━━━━━━━━━━━━━━━━━━\u001b[0m\u001b[37m\u001b[0m \u001b[1m0s\u001b[0m 22ms/step\n",
            "Epoch 1 | D Loss: 0.7433 | G Loss: 0.7313\n",
            "\u001b[1m1/1\u001b[0m \u001b[32m━━━━━━━━━━━━━━━━━━━━\u001b[0m\u001b[37m\u001b[0m \u001b[1m0s\u001b[0m 25ms/step\n",
            "Epoch 2 | D Loss: 0.7385 | G Loss: 0.7321\n",
            "\u001b[1m1/1\u001b[0m \u001b[32m━━━━━━━━━━━━━━━━━━━━\u001b[0m\u001b[37m\u001b[0m \u001b[1m0s\u001b[0m 20ms/step\n",
            "Epoch 3 | D Loss: 0.7379 | G Loss: 0.7330\n",
            "\u001b[1m1/1\u001b[0m \u001b[32m━━━━━━━━━━━━━━━━━━━━\u001b[0m\u001b[37m\u001b[0m \u001b[1m0s\u001b[0m 21ms/step\n",
            "Epoch 4 | D Loss: 0.7383 | G Loss: 0.7346\n",
            "\u001b[1m1/1\u001b[0m \u001b[32m━━━━━━━━━━━━━━━━━━━━\u001b[0m\u001b[37m\u001b[0m \u001b[1m0s\u001b[0m 23ms/step\n",
            "Epoch 5 | D Loss: 0.7361 | G Loss: 0.7329\n",
            "\u001b[1m1/1\u001b[0m \u001b[32m━━━━━━━━━━━━━━━━━━━━\u001b[0m\u001b[37m\u001b[0m \u001b[1m0s\u001b[0m 28ms/step\n",
            "Epoch 6 | D Loss: 0.7351 | G Loss: 0.7327\n",
            "\u001b[1m1/1\u001b[0m \u001b[32m━━━━━━━━━━━━━━━━━━━━\u001b[0m\u001b[37m\u001b[0m \u001b[1m0s\u001b[0m 20ms/step\n",
            "Epoch 7 | D Loss: 0.7356 | G Loss: 0.7336\n",
            "\u001b[1m1/1\u001b[0m \u001b[32m━━━━━━━━━━━━━━━━━━━━\u001b[0m\u001b[37m\u001b[0m \u001b[1m0s\u001b[0m 21ms/step\n",
            "Epoch 8 | D Loss: 0.7354 | G Loss: 0.7336\n",
            "\u001b[1m1/1\u001b[0m \u001b[32m━━━━━━━━━━━━━━━━━━━━\u001b[0m\u001b[37m\u001b[0m \u001b[1m0s\u001b[0m 20ms/step\n",
            "Epoch 9 | D Loss: 0.7356 | G Loss: 0.7338\n",
            "\u001b[1m1/1\u001b[0m \u001b[32m━━━━━━━━━━━━━━━━━━━━\u001b[0m\u001b[37m\u001b[0m \u001b[1m0s\u001b[0m 50ms/step\n"
          ]
        },
        {
          "output_type": "stream",
          "name": "stderr",
          "text": [
            "/usr/local/lib/python3.10/dist-packages/sklearn/utils/validation.py:2739: UserWarning: X does not have valid feature names, but MinMaxScaler was fitted with feature names\n",
            "  warnings.warn(\n"
          ]
        },
        {
          "output_type": "stream",
          "name": "stdout",
          "text": [
            "\u001b[1m1/1\u001b[0m \u001b[32m━━━━━━━━━━━━━━━━━━━━\u001b[0m\u001b[37m\u001b[0m \u001b[1m0s\u001b[0m 59ms/step\n",
            "PCGAN Score for the input check: 0.4872\n",
            "Running AI Analysis for Routing: ICIC0000009, SWIFT: ICICINBBXXX, Account: 8384421725, Check Number: 340541\n",
            "Drive already mounted at /content/drive; to attempt to forcibly remount, call drive.mount(\"/content/drive\", force_remount=True).\n",
            "Number of records used for training: 10\n"
          ]
        },
        {
          "output_type": "stream",
          "name": "stderr",
          "text": [
            "/usr/local/lib/python3.10/dist-packages/keras/src/layers/core/dense.py:87: UserWarning: Do not pass an `input_shape`/`input_dim` argument to a layer. When using Sequential models, prefer using an `Input(shape)` object as the first layer in the model instead.\n",
            "  super().__init__(activity_regularizer=activity_regularizer, **kwargs)\n"
          ]
        },
        {
          "output_type": "stream",
          "name": "stdout",
          "text": [
            "\u001b[1m1/1\u001b[0m \u001b[32m━━━━━━━━━━━━━━━━━━━━\u001b[0m\u001b[37m\u001b[0m \u001b[1m0s\u001b[0m 100ms/step\n"
          ]
        },
        {
          "output_type": "stream",
          "name": "stderr",
          "text": [
            "/usr/local/lib/python3.10/dist-packages/keras/src/backend/tensorflow/trainer.py:75: UserWarning: The model does not have any trainable weights.\n",
            "  warnings.warn(\"The model does not have any trainable weights.\")\n"
          ]
        },
        {
          "output_type": "stream",
          "name": "stdout",
          "text": [
            "Epoch 0 | D Loss: 0.6966 | G Loss: 0.6744\n",
            "\u001b[1m1/1\u001b[0m \u001b[32m━━━━━━━━━━━━━━━━━━━━\u001b[0m\u001b[37m\u001b[0m \u001b[1m0s\u001b[0m 21ms/step\n",
            "Epoch 1 | D Loss: 0.6882 | G Loss: 0.6824\n",
            "\u001b[1m1/1\u001b[0m \u001b[32m━━━━━━━━━━━━━━━━━━━━\u001b[0m\u001b[37m\u001b[0m \u001b[1m0s\u001b[0m 21ms/step\n",
            "Epoch 2 | D Loss: 0.6905 | G Loss: 0.6866\n",
            "\u001b[1m1/1\u001b[0m \u001b[32m━━━━━━━━━━━━━━━━━━━━\u001b[0m\u001b[37m\u001b[0m \u001b[1m0s\u001b[0m 23ms/step\n",
            "Epoch 3 | D Loss: 0.6932 | G Loss: 0.6906\n",
            "\u001b[1m1/1\u001b[0m \u001b[32m━━━━━━━━━━━━━━━━━━━━\u001b[0m\u001b[37m\u001b[0m \u001b[1m0s\u001b[0m 20ms/step\n",
            "Epoch 4 | D Loss: 0.6900 | G Loss: 0.6883\n",
            "\u001b[1m1/1\u001b[0m \u001b[32m━━━━━━━━━━━━━━━━━━━━\u001b[0m\u001b[37m\u001b[0m \u001b[1m0s\u001b[0m 20ms/step\n",
            "Epoch 5 | D Loss: 0.6884 | G Loss: 0.6877\n",
            "\u001b[1m1/1\u001b[0m \u001b[32m━━━━━━━━━━━━━━━━━━━━\u001b[0m\u001b[37m\u001b[0m \u001b[1m0s\u001b[0m 22ms/step\n",
            "Epoch 6 | D Loss: 0.6917 | G Loss: 0.6909\n",
            "\u001b[1m1/1\u001b[0m \u001b[32m━━━━━━━━━━━━━━━━━━━━\u001b[0m\u001b[37m\u001b[0m \u001b[1m0s\u001b[0m 20ms/step\n",
            "Epoch 7 | D Loss: 0.6927 | G Loss: 0.6922\n",
            "\u001b[1m1/1\u001b[0m \u001b[32m━━━━━━━━━━━━━━━━━━━━\u001b[0m\u001b[37m\u001b[0m \u001b[1m0s\u001b[0m 22ms/step\n",
            "Epoch 8 | D Loss: 0.6953 | G Loss: 0.6951\n",
            "\u001b[1m1/1\u001b[0m \u001b[32m━━━━━━━━━━━━━━━━━━━━\u001b[0m\u001b[37m\u001b[0m \u001b[1m0s\u001b[0m 22ms/step\n",
            "Epoch 9 | D Loss: 0.6983 | G Loss: 0.6982\n",
            "\u001b[1m1/1\u001b[0m \u001b[32m━━━━━━━━━━━━━━━━━━━━\u001b[0m\u001b[37m\u001b[0m \u001b[1m0s\u001b[0m 49ms/step\n",
            "\u001b[1m1/1\u001b[0m \u001b[32m━━━━━━━━━━━━━━━━━━━━\u001b[0m\u001b[37m\u001b[0m \u001b[1m0s\u001b[0m 51ms/step\n"
          ]
        },
        {
          "output_type": "stream",
          "name": "stderr",
          "text": [
            "/usr/local/lib/python3.10/dist-packages/sklearn/utils/validation.py:2739: UserWarning: X does not have valid feature names, but MinMaxScaler was fitted with feature names\n",
            "  warnings.warn(\n"
          ]
        },
        {
          "output_type": "stream",
          "name": "stdout",
          "text": [
            "PCGAN Score for the input check: 0.4906\n",
            "Running AI Analysis for Routing: SBIN0000300, SWIFT: SBININBBXXX, Account: 78235193360662, Check Number: 666051\n",
            "Drive already mounted at /content/drive; to attempt to forcibly remount, call drive.mount(\"/content/drive\", force_remount=True).\n",
            "Number of records used for training: 10\n",
            "\u001b[1m1/1\u001b[0m \u001b[32m━━━━━━━━━━━━━━━━━━━━\u001b[0m\u001b[37m\u001b[0m \u001b[1m0s\u001b[0m 54ms/step\n"
          ]
        },
        {
          "output_type": "stream",
          "name": "stderr",
          "text": [
            "/usr/local/lib/python3.10/dist-packages/keras/src/layers/core/dense.py:87: UserWarning: Do not pass an `input_shape`/`input_dim` argument to a layer. When using Sequential models, prefer using an `Input(shape)` object as the first layer in the model instead.\n",
            "  super().__init__(activity_regularizer=activity_regularizer, **kwargs)\n",
            "/usr/local/lib/python3.10/dist-packages/keras/src/backend/tensorflow/trainer.py:75: UserWarning: The model does not have any trainable weights.\n",
            "  warnings.warn(\"The model does not have any trainable weights.\")\n"
          ]
        },
        {
          "output_type": "stream",
          "name": "stdout",
          "text": [
            "Epoch 0 | D Loss: 0.6335 | G Loss: 0.6707\n",
            "\u001b[1m1/1\u001b[0m \u001b[32m━━━━━━━━━━━━━━━━━━━━\u001b[0m\u001b[37m\u001b[0m \u001b[1m0s\u001b[0m 20ms/step\n",
            "Epoch 1 | D Loss: 0.6547 | G Loss: 0.6681\n",
            "\u001b[1m1/1\u001b[0m \u001b[32m━━━━━━━━━━━━━━━━━━━━\u001b[0m\u001b[37m\u001b[0m \u001b[1m0s\u001b[0m 23ms/step\n",
            "Epoch 2 | D Loss: 0.6642 | G Loss: 0.6743\n",
            "\u001b[1m1/1\u001b[0m \u001b[32m━━━━━━━━━━━━━━━━━━━━\u001b[0m\u001b[37m\u001b[0m \u001b[1m0s\u001b[0m 21ms/step\n",
            "Epoch 3 | D Loss: 0.6708 | G Loss: 0.6768\n",
            "\u001b[1m1/1\u001b[0m \u001b[32m━━━━━━━━━━━━━━━━━━━━\u001b[0m\u001b[37m\u001b[0m \u001b[1m0s\u001b[0m 20ms/step\n",
            "Epoch 4 | D Loss: 0.6734 | G Loss: 0.6788\n",
            "\u001b[1m1/1\u001b[0m \u001b[32m━━━━━━━━━━━━━━━━━━━━\u001b[0m\u001b[37m\u001b[0m \u001b[1m0s\u001b[0m 31ms/step\n",
            "Epoch 5 | D Loss: 0.6751 | G Loss: 0.6800\n",
            "\u001b[1m1/1\u001b[0m \u001b[32m━━━━━━━━━━━━━━━━━━━━\u001b[0m\u001b[37m\u001b[0m \u001b[1m0s\u001b[0m 34ms/step\n",
            "Epoch 6 | D Loss: 0.6780 | G Loss: 0.6820\n",
            "\u001b[1m1/1\u001b[0m \u001b[32m━━━━━━━━━━━━━━━━━━━━\u001b[0m\u001b[37m\u001b[0m \u001b[1m0s\u001b[0m 38ms/step\n",
            "Epoch 7 | D Loss: 0.6796 | G Loss: 0.6837\n",
            "\u001b[1m1/1\u001b[0m \u001b[32m━━━━━━━━━━━━━━━━━━━━\u001b[0m\u001b[37m\u001b[0m \u001b[1m0s\u001b[0m 31ms/step\n",
            "Epoch 8 | D Loss: 0.6816 | G Loss: 0.6847\n",
            "\u001b[1m1/1\u001b[0m \u001b[32m━━━━━━━━━━━━━━━━━━━━\u001b[0m\u001b[37m\u001b[0m \u001b[1m0s\u001b[0m 33ms/step\n",
            "Epoch 9 | D Loss: 0.6835 | G Loss: 0.6870\n",
            "\u001b[1m1/1\u001b[0m \u001b[32m━━━━━━━━━━━━━━━━━━━━\u001b[0m\u001b[37m\u001b[0m \u001b[1m0s\u001b[0m 79ms/step\n"
          ]
        },
        {
          "output_type": "stream",
          "name": "stderr",
          "text": [
            "/usr/local/lib/python3.10/dist-packages/sklearn/utils/validation.py:2739: UserWarning: X does not have valid feature names, but MinMaxScaler was fitted with feature names\n",
            "  warnings.warn(\n"
          ]
        },
        {
          "output_type": "stream",
          "name": "stdout",
          "text": [
            "\u001b[1m1/1\u001b[0m \u001b[32m━━━━━━━━━━━━━━━━━━━━\u001b[0m\u001b[37m\u001b[0m \u001b[1m0s\u001b[0m 95ms/step\n",
            "PCGAN Score for the input check: 0.5499\n",
            "Running AI Analysis for Routing: 334455667, SWIFT: BOFMCATTXXX, Account: 699091005103, Check Number: 846811\n",
            "Drive already mounted at /content/drive; to attempt to forcibly remount, call drive.mount(\"/content/drive\", force_remount=True).\n",
            "Number of records used for training: 10\n",
            "\u001b[1m1/1\u001b[0m \u001b[32m━━━━━━━━━━━━━━━━━━━━\u001b[0m\u001b[37m\u001b[0m \u001b[1m0s\u001b[0m 53ms/step\n"
          ]
        },
        {
          "output_type": "stream",
          "name": "stderr",
          "text": [
            "/usr/local/lib/python3.10/dist-packages/keras/src/layers/core/dense.py:87: UserWarning: Do not pass an `input_shape`/`input_dim` argument to a layer. When using Sequential models, prefer using an `Input(shape)` object as the first layer in the model instead.\n",
            "  super().__init__(activity_regularizer=activity_regularizer, **kwargs)\n",
            "/usr/local/lib/python3.10/dist-packages/keras/src/backend/tensorflow/trainer.py:75: UserWarning: The model does not have any trainable weights.\n",
            "  warnings.warn(\"The model does not have any trainable weights.\")\n"
          ]
        },
        {
          "output_type": "stream",
          "name": "stdout",
          "text": [
            "Epoch 0 | D Loss: 0.7135 | G Loss: 0.7169\n",
            "\u001b[1m1/1\u001b[0m \u001b[32m━━━━━━━━━━━━━━━━━━━━\u001b[0m\u001b[37m\u001b[0m \u001b[1m0s\u001b[0m 20ms/step\n",
            "Epoch 1 | D Loss: 0.7180 | G Loss: 0.7206\n",
            "\u001b[1m1/1\u001b[0m \u001b[32m━━━━━━━━━━━━━━━━━━━━\u001b[0m\u001b[37m\u001b[0m \u001b[1m0s\u001b[0m 23ms/step\n",
            "Epoch 2 | D Loss: 0.7242 | G Loss: 0.7265\n",
            "\u001b[1m1/1\u001b[0m \u001b[32m━━━━━━━━━━━━━━━━━━━━\u001b[0m\u001b[37m\u001b[0m \u001b[1m0s\u001b[0m 21ms/step\n",
            "Epoch 3 | D Loss: 0.7252 | G Loss: 0.7266\n",
            "\u001b[1m1/1\u001b[0m \u001b[32m━━━━━━━━━━━━━━━━━━━━\u001b[0m\u001b[37m\u001b[0m \u001b[1m0s\u001b[0m 20ms/step\n",
            "Epoch 4 | D Loss: 0.7293 | G Loss: 0.7311\n",
            "\u001b[1m1/1\u001b[0m \u001b[32m━━━━━━━━━━━━━━━━━━━━\u001b[0m\u001b[37m\u001b[0m \u001b[1m0s\u001b[0m 20ms/step\n",
            "Epoch 5 | D Loss: 0.7305 | G Loss: 0.7318\n",
            "\u001b[1m1/1\u001b[0m \u001b[32m━━━━━━━━━━━━━━━━━━━━\u001b[0m\u001b[37m\u001b[0m \u001b[1m0s\u001b[0m 22ms/step\n",
            "Epoch 6 | D Loss: 0.7327 | G Loss: 0.7339\n",
            "\u001b[1m1/1\u001b[0m \u001b[32m━━━━━━━━━━━━━━━━━━━━\u001b[0m\u001b[37m\u001b[0m \u001b[1m0s\u001b[0m 22ms/step\n",
            "Epoch 7 | D Loss: 0.7334 | G Loss: 0.7342\n",
            "\u001b[1m1/1\u001b[0m \u001b[32m━━━━━━━━━━━━━━━━━━━━\u001b[0m\u001b[37m\u001b[0m \u001b[1m0s\u001b[0m 21ms/step\n",
            "Epoch 8 | D Loss: 0.7330 | G Loss: 0.7341\n",
            "\u001b[1m1/1\u001b[0m \u001b[32m━━━━━━━━━━━━━━━━━━━━\u001b[0m\u001b[37m\u001b[0m \u001b[1m0s\u001b[0m 23ms/step\n",
            "Epoch 9 | D Loss: 0.7344 | G Loss: 0.7352\n",
            "\u001b[1m1/1\u001b[0m \u001b[32m━━━━━━━━━━━━━━━━━━━━\u001b[0m\u001b[37m\u001b[0m \u001b[1m0s\u001b[0m 51ms/step\n"
          ]
        },
        {
          "output_type": "stream",
          "name": "stderr",
          "text": [
            "/usr/local/lib/python3.10/dist-packages/sklearn/utils/validation.py:2739: UserWarning: X does not have valid feature names, but MinMaxScaler was fitted with feature names\n",
            "  warnings.warn(\n"
          ]
        },
        {
          "output_type": "stream",
          "name": "stdout",
          "text": [
            "\u001b[1m1/1\u001b[0m \u001b[32m━━━━━━━━━━━━━━━━━━━━\u001b[0m\u001b[37m\u001b[0m \u001b[1m0s\u001b[0m 60ms/step\n",
            "PCGAN Score for the input check: 0.5620\n",
            "Running AI Analysis for Routing: 200456, SWIFT: INVALID14XXX, Account: 648024859672, Check Number: 42365161\n",
            "Drive already mounted at /content/drive; to attempt to forcibly remount, call drive.mount(\"/content/drive\", force_remount=True).\n",
            "Number of records used for training: 10\n"
          ]
        },
        {
          "output_type": "stream",
          "name": "stderr",
          "text": [
            "/usr/local/lib/python3.10/dist-packages/keras/src/layers/core/dense.py:87: UserWarning: Do not pass an `input_shape`/`input_dim` argument to a layer. When using Sequential models, prefer using an `Input(shape)` object as the first layer in the model instead.\n",
            "  super().__init__(activity_regularizer=activity_regularizer, **kwargs)\n"
          ]
        },
        {
          "output_type": "stream",
          "name": "stdout",
          "text": [
            "\u001b[1m1/1\u001b[0m \u001b[32m━━━━━━━━━━━━━━━━━━━━\u001b[0m\u001b[37m\u001b[0m \u001b[1m0s\u001b[0m 89ms/step\n"
          ]
        },
        {
          "output_type": "stream",
          "name": "stderr",
          "text": [
            "/usr/local/lib/python3.10/dist-packages/keras/src/backend/tensorflow/trainer.py:75: UserWarning: The model does not have any trainable weights.\n",
            "  warnings.warn(\"The model does not have any trainable weights.\")\n"
          ]
        },
        {
          "output_type": "stream",
          "name": "stdout",
          "text": [
            "Epoch 0 | D Loss: 0.7154 | G Loss: 0.6959\n",
            "\u001b[1m1/1\u001b[0m \u001b[32m━━━━━━━━━━━━━━━━━━━━\u001b[0m\u001b[37m\u001b[0m \u001b[1m0s\u001b[0m 21ms/step\n",
            "Epoch 1 | D Loss: 0.7024 | G Loss: 0.6961\n",
            "\u001b[1m1/1\u001b[0m \u001b[32m━━━━━━━━━━━━━━━━━━━━\u001b[0m\u001b[37m\u001b[0m \u001b[1m0s\u001b[0m 24ms/step\n",
            "Epoch 2 | D Loss: 0.7002 | G Loss: 0.6959\n",
            "\u001b[1m1/1\u001b[0m \u001b[32m━━━━━━━━━━━━━━━━━━━━\u001b[0m\u001b[37m\u001b[0m \u001b[1m0s\u001b[0m 21ms/step\n",
            "Epoch 3 | D Loss: 0.6988 | G Loss: 0.6970\n",
            "\u001b[1m1/1\u001b[0m \u001b[32m━━━━━━━━━━━━━━━━━━━━\u001b[0m\u001b[37m\u001b[0m \u001b[1m0s\u001b[0m 22ms/step\n",
            "Epoch 4 | D Loss: 0.7001 | G Loss: 0.6985\n",
            "\u001b[1m1/1\u001b[0m \u001b[32m━━━━━━━━━━━━━━━━━━━━\u001b[0m\u001b[37m\u001b[0m \u001b[1m0s\u001b[0m 21ms/step\n",
            "Epoch 5 | D Loss: 0.7006 | G Loss: 0.6993\n",
            "\u001b[1m1/1\u001b[0m \u001b[32m━━━━━━━━━━━━━━━━━━━━\u001b[0m\u001b[37m\u001b[0m \u001b[1m0s\u001b[0m 28ms/step\n",
            "Epoch 6 | D Loss: 0.7020 | G Loss: 0.7011\n",
            "\u001b[1m1/1\u001b[0m \u001b[32m━━━━━━━━━━━━━━━━━━━━\u001b[0m\u001b[37m\u001b[0m \u001b[1m0s\u001b[0m 25ms/step\n",
            "Epoch 7 | D Loss: 0.7020 | G Loss: 0.7012\n",
            "\u001b[1m1/1\u001b[0m \u001b[32m━━━━━━━━━━━━━━━━━━━━\u001b[0m\u001b[37m\u001b[0m \u001b[1m0s\u001b[0m 20ms/step\n",
            "Epoch 8 | D Loss: 0.7031 | G Loss: 0.7024\n",
            "\u001b[1m1/1\u001b[0m \u001b[32m━━━━━━━━━━━━━━━━━━━━\u001b[0m\u001b[37m\u001b[0m \u001b[1m0s\u001b[0m 21ms/step\n",
            "Epoch 9 | D Loss: 0.7039 | G Loss: 0.7032\n",
            "\u001b[1m1/1\u001b[0m \u001b[32m━━━━━━━━━━━━━━━━━━━━\u001b[0m\u001b[37m\u001b[0m \u001b[1m0s\u001b[0m 49ms/step\n"
          ]
        },
        {
          "output_type": "stream",
          "name": "stderr",
          "text": [
            "/usr/local/lib/python3.10/dist-packages/sklearn/utils/validation.py:2739: UserWarning: X does not have valid feature names, but MinMaxScaler was fitted with feature names\n",
            "  warnings.warn(\n"
          ]
        },
        {
          "output_type": "stream",
          "name": "stdout",
          "text": [
            "\u001b[1m1/1\u001b[0m \u001b[32m━━━━━━━━━━━━━━━━━━━━\u001b[0m\u001b[37m\u001b[0m \u001b[1m0s\u001b[0m 55ms/step\n",
            "PCGAN Score for the input check: 0.4945\n",
            "Running AI Analysis for Routing: SBIN0000806, SWIFT: SBININBB66XXX, Account: 76673134757, Check Number: 548718\n",
            "Drive already mounted at /content/drive; to attempt to forcibly remount, call drive.mount(\"/content/drive\", force_remount=True).\n",
            "Number of records used for training: 10\n",
            "\u001b[1m1/1\u001b[0m \u001b[32m━━━━━━━━━━━━━━━━━━━━\u001b[0m\u001b[37m\u001b[0m \u001b[1m0s\u001b[0m 57ms/step\n"
          ]
        },
        {
          "output_type": "stream",
          "name": "stderr",
          "text": [
            "/usr/local/lib/python3.10/dist-packages/keras/src/layers/core/dense.py:87: UserWarning: Do not pass an `input_shape`/`input_dim` argument to a layer. When using Sequential models, prefer using an `Input(shape)` object as the first layer in the model instead.\n",
            "  super().__init__(activity_regularizer=activity_regularizer, **kwargs)\n",
            "/usr/local/lib/python3.10/dist-packages/keras/src/backend/tensorflow/trainer.py:75: UserWarning: The model does not have any trainable weights.\n",
            "  warnings.warn(\"The model does not have any trainable weights.\")\n"
          ]
        },
        {
          "output_type": "stream",
          "name": "stdout",
          "text": [
            "Epoch 0 | D Loss: 0.6813 | G Loss: 0.6807\n",
            "\u001b[1m1/1\u001b[0m \u001b[32m━━━━━━━━━━━━━━━━━━━━\u001b[0m\u001b[37m\u001b[0m \u001b[1m0s\u001b[0m 32ms/step\n",
            "Epoch 1 | D Loss: 0.6809 | G Loss: 0.6795\n",
            "\u001b[1m1/1\u001b[0m \u001b[32m━━━━━━━━━━━━━━━━━━━━\u001b[0m\u001b[37m\u001b[0m \u001b[1m0s\u001b[0m 29ms/step\n",
            "Epoch 2 | D Loss: 0.6789 | G Loss: 0.6794\n",
            "\u001b[1m1/1\u001b[0m \u001b[32m━━━━━━━━━━━━━━━━━━━━\u001b[0m\u001b[37m\u001b[0m \u001b[1m0s\u001b[0m 34ms/step\n",
            "Epoch 3 | D Loss: 0.6804 | G Loss: 0.6807\n",
            "\u001b[1m1/1\u001b[0m \u001b[32m━━━━━━━━━━━━━━━━━━━━\u001b[0m\u001b[37m\u001b[0m \u001b[1m0s\u001b[0m 32ms/step\n",
            "Epoch 4 | D Loss: 0.6819 | G Loss: 0.6826\n",
            "\u001b[1m1/1\u001b[0m \u001b[32m━━━━━━━━━━━━━━━━━━━━\u001b[0m\u001b[37m\u001b[0m \u001b[1m0s\u001b[0m 36ms/step\n",
            "Epoch 5 | D Loss: 0.6820 | G Loss: 0.6826\n",
            "\u001b[1m1/1\u001b[0m \u001b[32m━━━━━━━━━━━━━━━━━━━━\u001b[0m\u001b[37m\u001b[0m \u001b[1m0s\u001b[0m 33ms/step\n",
            "Epoch 6 | D Loss: 0.6831 | G Loss: 0.6835\n",
            "\u001b[1m1/1\u001b[0m \u001b[32m━━━━━━━━━━━━━━━━━━━━\u001b[0m\u001b[37m\u001b[0m \u001b[1m0s\u001b[0m 34ms/step\n",
            "Epoch 7 | D Loss: 0.6837 | G Loss: 0.6843\n",
            "\u001b[1m1/1\u001b[0m \u001b[32m━━━━━━━━━━━━━━━━━━━━\u001b[0m\u001b[37m\u001b[0m \u001b[1m0s\u001b[0m 35ms/step\n",
            "Epoch 8 | D Loss: 0.6845 | G Loss: 0.6851\n",
            "\u001b[1m1/1\u001b[0m \u001b[32m━━━━━━━━━━━━━━━━━━━━\u001b[0m\u001b[37m\u001b[0m \u001b[1m0s\u001b[0m 32ms/step\n",
            "Epoch 9 | D Loss: 0.6853 | G Loss: 0.6857\n",
            "\u001b[1m1/1\u001b[0m \u001b[32m━━━━━━━━━━━━━━━━━━━━\u001b[0m\u001b[37m\u001b[0m \u001b[1m0s\u001b[0m 58ms/step\n"
          ]
        },
        {
          "output_type": "stream",
          "name": "stderr",
          "text": [
            "/usr/local/lib/python3.10/dist-packages/sklearn/utils/validation.py:2739: UserWarning: X does not have valid feature names, but MinMaxScaler was fitted with feature names\n",
            "  warnings.warn(\n"
          ]
        },
        {
          "output_type": "stream",
          "name": "stdout",
          "text": [
            "\u001b[1m1/1\u001b[0m \u001b[32m━━━━━━━━━━━━━━━━━━━━\u001b[0m\u001b[37m\u001b[0m \u001b[1m0s\u001b[0m 76ms/step\n",
            "PCGAN Score for the input check: 0.5131\n",
            "Running AI Analysis for Routing: UTIB0000004, SWIFT: UTIBINBB98XXX, Account: 919925517536793, Check Number: 2821424\n",
            "Drive already mounted at /content/drive; to attempt to forcibly remount, call drive.mount(\"/content/drive\", force_remount=True).\n",
            "Number of records used for training: 10\n",
            "\u001b[1m1/1\u001b[0m \u001b[32m━━━━━━━━━━━━━━━━━━━━\u001b[0m\u001b[37m\u001b[0m \u001b[1m0s\u001b[0m 53ms/step\n"
          ]
        },
        {
          "output_type": "stream",
          "name": "stderr",
          "text": [
            "/usr/local/lib/python3.10/dist-packages/keras/src/layers/core/dense.py:87: UserWarning: Do not pass an `input_shape`/`input_dim` argument to a layer. When using Sequential models, prefer using an `Input(shape)` object as the first layer in the model instead.\n",
            "  super().__init__(activity_regularizer=activity_regularizer, **kwargs)\n",
            "/usr/local/lib/python3.10/dist-packages/keras/src/backend/tensorflow/trainer.py:75: UserWarning: The model does not have any trainable weights.\n",
            "  warnings.warn(\"The model does not have any trainable weights.\")\n"
          ]
        },
        {
          "output_type": "stream",
          "name": "stdout",
          "text": [
            "Epoch 0 | D Loss: 0.6787 | G Loss: 0.6838\n",
            "\u001b[1m1/1\u001b[0m \u001b[32m━━━━━━━━━━━━━━━━━━━━\u001b[0m\u001b[37m\u001b[0m \u001b[1m0s\u001b[0m 21ms/step\n",
            "Epoch 1 | D Loss: 0.6869 | G Loss: 0.6891\n",
            "\u001b[1m1/1\u001b[0m \u001b[32m━━━━━━━━━━━━━━━━━━━━\u001b[0m\u001b[37m\u001b[0m \u001b[1m0s\u001b[0m 20ms/step\n",
            "Epoch 2 | D Loss: 0.6874 | G Loss: 0.6881\n",
            "\u001b[1m1/1\u001b[0m \u001b[32m━━━━━━━━━━━━━━━━━━━━\u001b[0m\u001b[37m\u001b[0m \u001b[1m0s\u001b[0m 20ms/step\n",
            "Epoch 3 | D Loss: 0.6881 | G Loss: 0.6885\n",
            "\u001b[1m1/1\u001b[0m \u001b[32m━━━━━━━━━━━━━━━━━━━━\u001b[0m\u001b[37m\u001b[0m \u001b[1m0s\u001b[0m 20ms/step\n",
            "Epoch 4 | D Loss: 0.6902 | G Loss: 0.6911\n",
            "\u001b[1m1/1\u001b[0m \u001b[32m━━━━━━━━━━━━━━━━━━━━\u001b[0m\u001b[37m\u001b[0m \u001b[1m0s\u001b[0m 20ms/step\n",
            "Epoch 5 | D Loss: 0.6910 | G Loss: 0.6915\n",
            "\u001b[1m1/1\u001b[0m \u001b[32m━━━━━━━━━━━━━━━━━━━━\u001b[0m\u001b[37m\u001b[0m \u001b[1m0s\u001b[0m 20ms/step\n",
            "Epoch 6 | D Loss: 0.6922 | G Loss: 0.6929\n",
            "\u001b[1m1/1\u001b[0m \u001b[32m━━━━━━━━━━━━━━━━━━━━\u001b[0m\u001b[37m\u001b[0m \u001b[1m0s\u001b[0m 19ms/step\n",
            "Epoch 7 | D Loss: 0.6935 | G Loss: 0.6939\n",
            "\u001b[1m1/1\u001b[0m \u001b[32m━━━━━━━━━━━━━━━━━━━━\u001b[0m\u001b[37m\u001b[0m \u001b[1m0s\u001b[0m 20ms/step\n",
            "Epoch 8 | D Loss: 0.6945 | G Loss: 0.6949\n",
            "\u001b[1m1/1\u001b[0m \u001b[32m━━━━━━━━━━━━━━━━━━━━\u001b[0m\u001b[37m\u001b[0m \u001b[1m0s\u001b[0m 25ms/step\n",
            "Epoch 9 | D Loss: 0.6950 | G Loss: 0.6955\n",
            "\u001b[1m1/1\u001b[0m \u001b[32m━━━━━━━━━━━━━━━━━━━━\u001b[0m\u001b[37m\u001b[0m \u001b[1m0s\u001b[0m 53ms/step\n"
          ]
        },
        {
          "output_type": "stream",
          "name": "stderr",
          "text": [
            "/usr/local/lib/python3.10/dist-packages/sklearn/utils/validation.py:2739: UserWarning: X does not have valid feature names, but MinMaxScaler was fitted with feature names\n",
            "  warnings.warn(\n"
          ]
        },
        {
          "output_type": "stream",
          "name": "stdout",
          "text": [
            "\u001b[1m1/1\u001b[0m \u001b[32m━━━━━━━━━━━━━━━━━━━━\u001b[0m\u001b[37m\u001b[0m \u001b[1m0s\u001b[0m 57ms/step\n",
            "PCGAN Score for the input check: 0.4990\n",
            "Running AI Analysis for Routing: UTIB0000002, SWIFT: UTIBINBB41XXX, Account: 892057894584579, Check Number: 7342812\n",
            "Drive already mounted at /content/drive; to attempt to forcibly remount, call drive.mount(\"/content/drive\", force_remount=True).\n",
            "Number of records used for training: 10\n"
          ]
        },
        {
          "output_type": "stream",
          "name": "stderr",
          "text": [
            "/usr/local/lib/python3.10/dist-packages/keras/src/layers/core/dense.py:87: UserWarning: Do not pass an `input_shape`/`input_dim` argument to a layer. When using Sequential models, prefer using an `Input(shape)` object as the first layer in the model instead.\n",
            "  super().__init__(activity_regularizer=activity_regularizer, **kwargs)\n"
          ]
        },
        {
          "output_type": "stream",
          "name": "stdout",
          "text": [
            "\u001b[1m1/1\u001b[0m \u001b[32m━━━━━━━━━━━━━━━━━━━━\u001b[0m\u001b[37m\u001b[0m \u001b[1m0s\u001b[0m 92ms/step\n"
          ]
        },
        {
          "output_type": "stream",
          "name": "stderr",
          "text": [
            "/usr/local/lib/python3.10/dist-packages/keras/src/backend/tensorflow/trainer.py:75: UserWarning: The model does not have any trainable weights.\n",
            "  warnings.warn(\"The model does not have any trainable weights.\")\n"
          ]
        },
        {
          "output_type": "stream",
          "name": "stdout",
          "text": [
            "Epoch 0 | D Loss: 0.6592 | G Loss: 0.6758\n",
            "\u001b[1m1/1\u001b[0m \u001b[32m━━━━━━━━━━━━━━━━━━━━\u001b[0m\u001b[37m\u001b[0m \u001b[1m0s\u001b[0m 21ms/step\n",
            "Epoch 1 | D Loss: 0.6715 | G Loss: 0.6771\n",
            "\u001b[1m1/1\u001b[0m \u001b[32m━━━━━━━━━━━━━━━━━━━━\u001b[0m\u001b[37m\u001b[0m \u001b[1m0s\u001b[0m 21ms/step\n",
            "Epoch 2 | D Loss: 0.6748 | G Loss: 0.6796\n",
            "\u001b[1m1/1\u001b[0m \u001b[32m━━━━━━━━━━━━━━━━━━━━\u001b[0m\u001b[37m\u001b[0m \u001b[1m0s\u001b[0m 20ms/step\n",
            "Epoch 3 | D Loss: 0.6777 | G Loss: 0.6799\n",
            "\u001b[1m1/1\u001b[0m \u001b[32m━━━━━━━━━━━━━━━━━━━━\u001b[0m\u001b[37m\u001b[0m \u001b[1m0s\u001b[0m 20ms/step\n",
            "Epoch 4 | D Loss: 0.6786 | G Loss: 0.6819\n",
            "\u001b[1m1/1\u001b[0m \u001b[32m━━━━━━━━━━━━━━━━━━━━\u001b[0m\u001b[37m\u001b[0m \u001b[1m0s\u001b[0m 20ms/step\n",
            "Epoch 5 | D Loss: 0.6807 | G Loss: 0.6830\n",
            "\u001b[1m1/1\u001b[0m \u001b[32m━━━━━━━━━━━━━━━━━━━━\u001b[0m\u001b[37m\u001b[0m \u001b[1m0s\u001b[0m 20ms/step\n",
            "Epoch 6 | D Loss: 0.6822 | G Loss: 0.6842\n",
            "\u001b[1m1/1\u001b[0m \u001b[32m━━━━━━━━━━━━━━━━━━━━\u001b[0m\u001b[37m\u001b[0m \u001b[1m0s\u001b[0m 21ms/step\n",
            "Epoch 7 | D Loss: 0.6837 | G Loss: 0.6857\n",
            "\u001b[1m1/1\u001b[0m \u001b[32m━━━━━━━━━━━━━━━━━━━━\u001b[0m\u001b[37m\u001b[0m \u001b[1m0s\u001b[0m 20ms/step\n",
            "Epoch 8 | D Loss: 0.6848 | G Loss: 0.6866\n",
            "\u001b[1m1/1\u001b[0m \u001b[32m━━━━━━━━━━━━━━━━━━━━\u001b[0m\u001b[37m\u001b[0m \u001b[1m0s\u001b[0m 22ms/step\n",
            "Epoch 9 | D Loss: 0.6861 | G Loss: 0.6884\n",
            "\u001b[1m1/1\u001b[0m \u001b[32m━━━━━━━━━━━━━━━━━━━━\u001b[0m\u001b[37m\u001b[0m \u001b[1m0s\u001b[0m 59ms/step\n"
          ]
        },
        {
          "output_type": "stream",
          "name": "stderr",
          "text": [
            "/usr/local/lib/python3.10/dist-packages/sklearn/utils/validation.py:2739: UserWarning: X does not have valid feature names, but MinMaxScaler was fitted with feature names\n",
            "  warnings.warn(\n"
          ]
        },
        {
          "output_type": "stream",
          "name": "stdout",
          "text": [
            "\u001b[1m1/1\u001b[0m \u001b[32m━━━━━━━━━━━━━━━━━━━━\u001b[0m\u001b[37m\u001b[0m \u001b[1m0s\u001b[0m 61ms/step\n",
            "PCGAN Score for the input check: 0.5369\n",
            "Running AI Analysis for Routing: HDFC0000003, SWIFT: HDFCINBB97XXX, Account: 48947399697275, Check Number: 724411948\n",
            "Drive already mounted at /content/drive; to attempt to forcibly remount, call drive.mount(\"/content/drive\", force_remount=True).\n",
            "Number of records used for training: 10\n",
            "\u001b[1m1/1\u001b[0m \u001b[32m━━━━━━━━━━━━━━━━━━━━\u001b[0m\u001b[37m\u001b[0m \u001b[1m0s\u001b[0m 58ms/step\n"
          ]
        },
        {
          "output_type": "stream",
          "name": "stderr",
          "text": [
            "/usr/local/lib/python3.10/dist-packages/keras/src/layers/core/dense.py:87: UserWarning: Do not pass an `input_shape`/`input_dim` argument to a layer. When using Sequential models, prefer using an `Input(shape)` object as the first layer in the model instead.\n",
            "  super().__init__(activity_regularizer=activity_regularizer, **kwargs)\n",
            "/usr/local/lib/python3.10/dist-packages/keras/src/backend/tensorflow/trainer.py:75: UserWarning: The model does not have any trainable weights.\n",
            "  warnings.warn(\"The model does not have any trainable weights.\")\n"
          ]
        },
        {
          "output_type": "stream",
          "name": "stdout",
          "text": [
            "Epoch 0 | D Loss: 0.7132 | G Loss: 0.6969\n",
            "\u001b[1m1/1\u001b[0m \u001b[32m━━━━━━━━━━━━━━━━━━━━\u001b[0m\u001b[37m\u001b[0m \u001b[1m0s\u001b[0m 21ms/step\n",
            "Epoch 1 | D Loss: 0.7071 | G Loss: 0.7019\n",
            "\u001b[1m1/1\u001b[0m \u001b[32m━━━━━━━━━━━━━━━━━━━━\u001b[0m\u001b[37m\u001b[0m \u001b[1m0s\u001b[0m 20ms/step\n",
            "Epoch 2 | D Loss: 0.7050 | G Loss: 0.7018\n",
            "\u001b[1m1/1\u001b[0m \u001b[32m━━━━━━━━━━━━━━━━━━━━\u001b[0m\u001b[37m\u001b[0m \u001b[1m0s\u001b[0m 20ms/step\n",
            "Epoch 3 | D Loss: 0.7023 | G Loss: 0.7012\n",
            "\u001b[1m1/1\u001b[0m \u001b[32m━━━━━━━━━━━━━━━━━━━━\u001b[0m\u001b[37m\u001b[0m \u001b[1m0s\u001b[0m 28ms/step\n",
            "Epoch 4 | D Loss: 0.7028 | G Loss: 0.7018\n",
            "\u001b[1m1/1\u001b[0m \u001b[32m━━━━━━━━━━━━━━━━━━━━\u001b[0m\u001b[37m\u001b[0m \u001b[1m0s\u001b[0m 31ms/step\n",
            "Epoch 5 | D Loss: 0.7051 | G Loss: 0.7045\n",
            "\u001b[1m1/1\u001b[0m \u001b[32m━━━━━━━━━━━━━━━━━━━━\u001b[0m\u001b[37m\u001b[0m \u001b[1m0s\u001b[0m 33ms/step\n",
            "Epoch 6 | D Loss: 0.7064 | G Loss: 0.7061\n",
            "\u001b[1m1/1\u001b[0m \u001b[32m━━━━━━━━━━━━━━━━━━━━\u001b[0m\u001b[37m\u001b[0m \u001b[1m0s\u001b[0m 40ms/step\n",
            "Epoch 7 | D Loss: 0.7076 | G Loss: 0.7073\n",
            "\u001b[1m1/1\u001b[0m \u001b[32m━━━━━━━━━━━━━━━━━━━━\u001b[0m\u001b[37m\u001b[0m \u001b[1m0s\u001b[0m 35ms/step\n",
            "Epoch 8 | D Loss: 0.7087 | G Loss: 0.7084\n",
            "\u001b[1m1/1\u001b[0m \u001b[32m━━━━━━━━━━━━━━━━━━━━\u001b[0m\u001b[37m\u001b[0m \u001b[1m0s\u001b[0m 34ms/step\n",
            "Epoch 9 | D Loss: 0.7092 | G Loss: 0.7090\n",
            "\u001b[1m1/1\u001b[0m \u001b[32m━━━━━━━━━━━━━━━━━━━━\u001b[0m\u001b[37m\u001b[0m \u001b[1m0s\u001b[0m 58ms/step\n"
          ]
        },
        {
          "output_type": "stream",
          "name": "stderr",
          "text": [
            "/usr/local/lib/python3.10/dist-packages/sklearn/utils/validation.py:2739: UserWarning: X does not have valid feature names, but MinMaxScaler was fitted with feature names\n",
            "  warnings.warn(\n"
          ]
        },
        {
          "output_type": "stream",
          "name": "stdout",
          "text": [
            "\u001b[1m1/1\u001b[0m \u001b[32m━━━━━━━━━━━━━━━━━━━━\u001b[0m\u001b[37m\u001b[0m \u001b[1m0s\u001b[0m 62ms/step\n",
            "PCGAN Score for the input check: 0.4986\n",
            "Running AI Analysis for Routing: 121000358, SWIFT: INVALID70XXX, Account: 2629880446, Check Number: 242914\n",
            "Drive already mounted at /content/drive; to attempt to forcibly remount, call drive.mount(\"/content/drive\", force_remount=True).\n",
            "Number of records used for training: 10\n",
            "\u001b[1m1/1\u001b[0m \u001b[32m━━━━━━━━━━━━━━━━━━━━\u001b[0m\u001b[37m\u001b[0m \u001b[1m0s\u001b[0m 54ms/step\n"
          ]
        },
        {
          "output_type": "stream",
          "name": "stderr",
          "text": [
            "/usr/local/lib/python3.10/dist-packages/keras/src/layers/core/dense.py:87: UserWarning: Do not pass an `input_shape`/`input_dim` argument to a layer. When using Sequential models, prefer using an `Input(shape)` object as the first layer in the model instead.\n",
            "  super().__init__(activity_regularizer=activity_regularizer, **kwargs)\n",
            "/usr/local/lib/python3.10/dist-packages/keras/src/backend/tensorflow/trainer.py:75: UserWarning: The model does not have any trainable weights.\n",
            "  warnings.warn(\"The model does not have any trainable weights.\")\n"
          ]
        },
        {
          "output_type": "stream",
          "name": "stdout",
          "text": [
            "Epoch 0 | D Loss: 0.6795 | G Loss: 0.6988\n",
            "\u001b[1m1/1\u001b[0m \u001b[32m━━━━━━━━━━━━━━━━━━━━\u001b[0m\u001b[37m\u001b[0m \u001b[1m0s\u001b[0m 22ms/step\n",
            "Epoch 1 | D Loss: 0.6944 | G Loss: 0.7028\n",
            "\u001b[1m1/1\u001b[0m \u001b[32m━━━━━━━━━━━━━━━━━━━━\u001b[0m\u001b[37m\u001b[0m \u001b[1m0s\u001b[0m 21ms/step\n",
            "Epoch 2 | D Loss: 0.6993 | G Loss: 0.7052\n",
            "\u001b[1m1/1\u001b[0m \u001b[32m━━━━━━━━━━━━━━━━━━━━\u001b[0m\u001b[37m\u001b[0m \u001b[1m0s\u001b[0m 21ms/step\n",
            "Epoch 3 | D Loss: 0.7036 | G Loss: 0.7082\n",
            "\u001b[1m1/1\u001b[0m \u001b[32m━━━━━━━━━━━━━━━━━━━━\u001b[0m\u001b[37m\u001b[0m \u001b[1m0s\u001b[0m 20ms/step\n",
            "Epoch 4 | D Loss: 0.7065 | G Loss: 0.7097\n",
            "\u001b[1m1/1\u001b[0m \u001b[32m━━━━━━━━━━━━━━━━━━━━\u001b[0m\u001b[37m\u001b[0m \u001b[1m0s\u001b[0m 23ms/step\n",
            "Epoch 5 | D Loss: 0.7096 | G Loss: 0.7135\n",
            "\u001b[1m1/1\u001b[0m \u001b[32m━━━━━━━━━━━━━━━━━━━━\u001b[0m\u001b[37m\u001b[0m \u001b[1m0s\u001b[0m 20ms/step\n",
            "Epoch 6 | D Loss: 0.7129 | G Loss: 0.7169\n",
            "\u001b[1m1/1\u001b[0m \u001b[32m━━━━━━━━━━━━━━━━━━━━\u001b[0m\u001b[37m\u001b[0m \u001b[1m0s\u001b[0m 21ms/step\n",
            "Epoch 7 | D Loss: 0.7162 | G Loss: 0.7192\n",
            "\u001b[1m1/1\u001b[0m \u001b[32m━━━━━━━━━━━━━━━━━━━━\u001b[0m\u001b[37m\u001b[0m \u001b[1m0s\u001b[0m 21ms/step\n",
            "Epoch 8 | D Loss: 0.7188 | G Loss: 0.7210\n",
            "\u001b[1m1/1\u001b[0m \u001b[32m━━━━━━━━━━━━━━━━━━━━\u001b[0m\u001b[37m\u001b[0m \u001b[1m0s\u001b[0m 21ms/step\n",
            "Epoch 9 | D Loss: 0.7211 | G Loss: 0.7244\n",
            "\u001b[1m1/1\u001b[0m \u001b[32m━━━━━━━━━━━━━━━━━━━━\u001b[0m\u001b[37m\u001b[0m \u001b[1m0s\u001b[0m 51ms/step\n"
          ]
        },
        {
          "output_type": "stream",
          "name": "stderr",
          "text": [
            "/usr/local/lib/python3.10/dist-packages/sklearn/utils/validation.py:2739: UserWarning: X does not have valid feature names, but MinMaxScaler was fitted with feature names\n",
            "  warnings.warn(\n"
          ]
        },
        {
          "output_type": "stream",
          "name": "stdout",
          "text": [
            "\u001b[1m1/1\u001b[0m \u001b[32m━━━━━━━━━━━━━━━━━━━━\u001b[0m\u001b[37m\u001b[0m \u001b[1m0s\u001b[0m 57ms/step\n",
            "PCGAN Score for the input check: 0.5520\n",
            "Running AI Analysis for Routing: 114911750, SWIFT: INVALID30XXX, Account: 942618663828, Check Number: 48490413\n",
            "Drive already mounted at /content/drive; to attempt to forcibly remount, call drive.mount(\"/content/drive\", force_remount=True).\n",
            "Number of records used for training: 10\n"
          ]
        },
        {
          "output_type": "stream",
          "name": "stderr",
          "text": [
            "/usr/local/lib/python3.10/dist-packages/keras/src/layers/core/dense.py:87: UserWarning: Do not pass an `input_shape`/`input_dim` argument to a layer. When using Sequential models, prefer using an `Input(shape)` object as the first layer in the model instead.\n",
            "  super().__init__(activity_regularizer=activity_regularizer, **kwargs)\n"
          ]
        },
        {
          "output_type": "stream",
          "name": "stdout",
          "text": [
            "\u001b[1m1/1\u001b[0m \u001b[32m━━━━━━━━━━━━━━━━━━━━\u001b[0m\u001b[37m\u001b[0m \u001b[1m0s\u001b[0m 91ms/step\n"
          ]
        },
        {
          "output_type": "stream",
          "name": "stderr",
          "text": [
            "/usr/local/lib/python3.10/dist-packages/keras/src/backend/tensorflow/trainer.py:75: UserWarning: The model does not have any trainable weights.\n",
            "  warnings.warn(\"The model does not have any trainable weights.\")\n"
          ]
        },
        {
          "output_type": "stream",
          "name": "stdout",
          "text": [
            "Epoch 0 | D Loss: 0.6725 | G Loss: 0.6922\n",
            "\u001b[1m1/1\u001b[0m \u001b[32m━━━━━━━━━━━━━━━━━━━━\u001b[0m\u001b[37m\u001b[0m \u001b[1m0s\u001b[0m 21ms/step\n",
            "Epoch 1 | D Loss: 0.6844 | G Loss: 0.6913\n",
            "\u001b[1m1/1\u001b[0m \u001b[32m━━━━━━━━━━━━━━━━━━━━\u001b[0m\u001b[37m\u001b[0m \u001b[1m0s\u001b[0m 20ms/step\n",
            "Epoch 2 | D Loss: 0.6882 | G Loss: 0.6920\n",
            "\u001b[1m1/1\u001b[0m \u001b[32m━━━━━━━━━━━━━━━━━━━━\u001b[0m\u001b[37m\u001b[0m \u001b[1m0s\u001b[0m 21ms/step\n",
            "Epoch 3 | D Loss: 0.6920 | G Loss: 0.6966\n",
            "\u001b[1m1/1\u001b[0m \u001b[32m━━━━━━━━━━━━━━━━━━━━\u001b[0m\u001b[37m\u001b[0m \u001b[1m0s\u001b[0m 20ms/step\n",
            "Epoch 4 | D Loss: 0.6947 | G Loss: 0.6976\n",
            "\u001b[1m1/1\u001b[0m \u001b[32m━━━━━━━━━━━━━━━━━━━━\u001b[0m\u001b[37m\u001b[0m \u001b[1m0s\u001b[0m 23ms/step\n",
            "Epoch 5 | D Loss: 0.6967 | G Loss: 0.6990\n",
            "\u001b[1m1/1\u001b[0m \u001b[32m━━━━━━━━━━━━━━━━━━━━\u001b[0m\u001b[37m\u001b[0m \u001b[1m0s\u001b[0m 23ms/step\n",
            "Epoch 6 | D Loss: 0.6973 | G Loss: 0.6994\n",
            "\u001b[1m1/1\u001b[0m \u001b[32m━━━━━━━━━━━━━━━━━━━━\u001b[0m\u001b[37m\u001b[0m \u001b[1m0s\u001b[0m 21ms/step\n",
            "Epoch 7 | D Loss: 0.6986 | G Loss: 0.7011\n",
            "\u001b[1m1/1\u001b[0m \u001b[32m━━━━━━━━━━━━━━━━━━━━\u001b[0m\u001b[37m\u001b[0m \u001b[1m0s\u001b[0m 20ms/step\n",
            "Epoch 8 | D Loss: 0.7010 | G Loss: 0.7035\n",
            "\u001b[1m1/1\u001b[0m \u001b[32m━━━━━━━━━━━━━━━━━━━━\u001b[0m\u001b[37m\u001b[0m \u001b[1m0s\u001b[0m 20ms/step\n",
            "Epoch 9 | D Loss: 0.7030 | G Loss: 0.7052\n",
            "\u001b[1m1/1\u001b[0m \u001b[32m━━━━━━━━━━━━━━━━━━━━\u001b[0m\u001b[37m\u001b[0m \u001b[1m0s\u001b[0m 54ms/step\n"
          ]
        },
        {
          "output_type": "stream",
          "name": "stderr",
          "text": [
            "/usr/local/lib/python3.10/dist-packages/sklearn/utils/validation.py:2739: UserWarning: X does not have valid feature names, but MinMaxScaler was fitted with feature names\n",
            "  warnings.warn(\n"
          ]
        },
        {
          "output_type": "stream",
          "name": "stdout",
          "text": [
            "\u001b[1m1/1\u001b[0m \u001b[32m━━━━━━━━━━━━━━━━━━━━\u001b[0m\u001b[37m\u001b[0m \u001b[1m0s\u001b[0m 59ms/step\n",
            "PCGAN Score for the input check: 0.5465\n",
            "Running AI Analysis for Routing: 13996246, SWIFT: INVALID30XXX, Account: 819312478, Check Number: 361519\n",
            "Drive already mounted at /content/drive; to attempt to forcibly remount, call drive.mount(\"/content/drive\", force_remount=True).\n",
            "Number of records used for training: 10\n",
            "\u001b[1m1/1\u001b[0m \u001b[32m━━━━━━━━━━━━━━━━━━━━\u001b[0m\u001b[37m\u001b[0m \u001b[1m0s\u001b[0m 53ms/step\n"
          ]
        },
        {
          "output_type": "stream",
          "name": "stderr",
          "text": [
            "/usr/local/lib/python3.10/dist-packages/keras/src/layers/core/dense.py:87: UserWarning: Do not pass an `input_shape`/`input_dim` argument to a layer. When using Sequential models, prefer using an `Input(shape)` object as the first layer in the model instead.\n",
            "  super().__init__(activity_regularizer=activity_regularizer, **kwargs)\n",
            "/usr/local/lib/python3.10/dist-packages/keras/src/backend/tensorflow/trainer.py:75: UserWarning: The model does not have any trainable weights.\n",
            "  warnings.warn(\"The model does not have any trainable weights.\")\n"
          ]
        },
        {
          "output_type": "stream",
          "name": "stdout",
          "text": [
            "Epoch 0 | D Loss: 0.6514 | G Loss: 0.6948\n",
            "\u001b[1m1/1\u001b[0m \u001b[32m━━━━━━━━━━━━━━━━━━━━\u001b[0m\u001b[37m\u001b[0m \u001b[1m0s\u001b[0m 21ms/step\n",
            "Epoch 1 | D Loss: 0.6833 | G Loss: 0.7002\n",
            "\u001b[1m1/1\u001b[0m \u001b[32m━━━━━━━━━━━━━━━━━━━━\u001b[0m\u001b[37m\u001b[0m \u001b[1m0s\u001b[0m 21ms/step\n",
            "Epoch 2 | D Loss: 0.6890 | G Loss: 0.6985\n",
            "\u001b[1m1/1\u001b[0m \u001b[32m━━━━━━━━━━━━━━━━━━━━\u001b[0m\u001b[37m\u001b[0m \u001b[1m0s\u001b[0m 21ms/step\n",
            "Epoch 3 | D Loss: 0.6917 | G Loss: 0.7000\n",
            "\u001b[1m1/1\u001b[0m \u001b[32m━━━━━━━━━━━━━━━━━━━━\u001b[0m\u001b[37m\u001b[0m \u001b[1m0s\u001b[0m 22ms/step\n",
            "Epoch 4 | D Loss: 0.6968 | G Loss: 0.7044\n",
            "\u001b[1m1/1\u001b[0m \u001b[32m━━━━━━━━━━━━━━━━━━━━\u001b[0m\u001b[37m\u001b[0m \u001b[1m0s\u001b[0m 32ms/step\n",
            "Epoch 5 | D Loss: 0.7018 | G Loss: 0.7086\n",
            "\u001b[1m1/1\u001b[0m \u001b[32m━━━━━━━━━━━━━━━━━━━━\u001b[0m\u001b[37m\u001b[0m \u001b[1m0s\u001b[0m 33ms/step\n",
            "Epoch 6 | D Loss: 0.7065 | G Loss: 0.7131\n",
            "\u001b[1m1/1\u001b[0m \u001b[32m━━━━━━━━━━━━━━━━━━━━\u001b[0m\u001b[37m\u001b[0m \u001b[1m0s\u001b[0m 34ms/step\n",
            "Epoch 7 | D Loss: 0.7108 | G Loss: 0.7167\n",
            "\u001b[1m1/1\u001b[0m \u001b[32m━━━━━━━━━━━━━━━━━━━━\u001b[0m\u001b[37m\u001b[0m \u001b[1m0s\u001b[0m 32ms/step\n",
            "Epoch 8 | D Loss: 0.7140 | G Loss: 0.7188\n",
            "\u001b[1m1/1\u001b[0m \u001b[32m━━━━━━━━━━━━━━━━━━━━\u001b[0m\u001b[37m\u001b[0m \u001b[1m0s\u001b[0m 33ms/step\n",
            "Epoch 9 | D Loss: 0.7184 | G Loss: 0.7243\n",
            "\u001b[1m1/1\u001b[0m \u001b[32m━━━━━━━━━━━━━━━━━━━━\u001b[0m\u001b[37m\u001b[0m \u001b[1m0s\u001b[0m 73ms/step\n"
          ]
        },
        {
          "output_type": "stream",
          "name": "stderr",
          "text": [
            "/usr/local/lib/python3.10/dist-packages/sklearn/utils/validation.py:2739: UserWarning: X does not have valid feature names, but MinMaxScaler was fitted with feature names\n",
            "  warnings.warn(\n"
          ]
        },
        {
          "output_type": "stream",
          "name": "stdout",
          "text": [
            "\u001b[1m1/1\u001b[0m \u001b[32m━━━━━━━━━━━━━━━━━━━━\u001b[0m\u001b[37m\u001b[0m \u001b[1m0s\u001b[0m 107ms/step\n",
            "PCGAN Score for the input check: 0.5310\n",
            "Generating comparative chart...\n"
          ]
        },
        {
          "output_type": "display_data",
          "data": {
            "text/plain": [
              "<Figure size 800x600 with 1 Axes>"
            ],
            "image/png": "[encoded data removed]"
          },
          "metadata": {}
        }
      ],
      "source": [
        "import csv\n",
        "import hashlib\n",
        "import os\n",
        "import time\n",
        "from google.colab import drive\n",
        "import matplotlib.pyplot as plt\n",
        "from datetime import datetime\n",
        "import pytz\n",
        "import pandas as pd\n",
        "import numpy as np\n",
        "from sklearn.preprocessing import LabelEncoder, MinMaxScaler\n",
        "import tensorflow as tf\n",
        "from tensorflow.keras import layers, models\n",
        "\n",
        "\n",
        "\n",
        "class Blockchain:\n",
        "    def __init__(self):\n",
        "        self.chain = []\n",
        "        self.bank_points = {}\n",
        "\n",
        "    def add_block(self, block):\n",
        "        block['timestamp'] = datetime.now(pytz.utc).strftime('%Y-%m-%d %H:%M:%S %Z')\n",
        "        block['cheque_used'] = 'N'\n",
        "        block['block_number'] = len(self.chain) + 1\n",
        "        block['previous_block'] = self.chain[-1]['overall_hash_key'] if self.chain else \"None\"\n",
        "        block['next_block'] = \"None\"\n",
        "        previous_hash = self.chain[-1]['overall_hash_key'] if self.chain else \"0\"\n",
        "        block['overall_hash_key'] = self.hash_block(block, previous_hash)\n",
        "        if self.chain:\n",
        "            self.chain[-1]['next_block'] = block['overall_hash_key']\n",
        "        self.chain.append(block)\n",
        "        key = (block['bank'], block['country'])\n",
        "        self.bank_points[key] = self.bank_points.get(key, 0) + 1\n",
        "\n",
        "    @staticmethod\n",
        "    def hash_block(block, previous_hash):\n",
        "        block_string = f\"{block}{previous_hash}\"\n",
        "        return hashlib.sha256(block_string.encode()).hexdigest()\n",
        "\n",
        "    def is_cheque_present(self, routing, swift, account, check_number):\n",
        "        for block in self.chain:\n",
        "            if (block['routing'] == routing and block['swift'] == swift and block['account'] == account and block['check_number'] == check_number):\n",
        "                return block\n",
        "        return None\n",
        "\n",
        "    def display_pol_benefits(self):\n",
        "        print(\"POL Block Chain Benefits by Bank\")\n",
        "        summary = {}\n",
        "        total_blocks = len(self.chain)\n",
        "        for block in self.chain:\n",
        "            key = (block['country'], block['bank'])\n",
        "            if key not in summary:\n",
        "                summary[key] = {'cheque_blocks': 0, 'loyalty_points': 0}\n",
        "            summary[key]['cheque_blocks'] += 1\n",
        "            summary[key]['loyalty_points'] = summary[key]['cheque_blocks'] // 10\n",
        "        for (country, bank), data in sorted(summary.items(), key=lambda item: item[1]['loyalty_points'], reverse=True):\n",
        "            contribution = (data['cheque_blocks'] / total_blocks) * 100\n",
        "            print(f\"Country: {country}, Bank: {bank}, Cheque Blocks: {data['cheque_blocks']}, Loyalty Points: {data['loyalty_points']}, Contribution: {contribution:.2f}%\")\n",
        "        print(f\"Overall Block Count: {total_blocks}\")\n",
        "\n",
        "        # Prepare data for chart\n",
        "        labels = [f\"{key[0]} + {key[1]}\" for key in summary.keys()]\n",
        "        points = [data['loyalty_points'] for data in summary.values()]\n",
        "\n",
        "        # Plot chart\n",
        "        plt.figure(figsize=(10, 6))\n",
        "        plt.bar(labels, points, color='skyblue')\n",
        "        plt.xlabel('Country + Bank')\n",
        "        plt.ylabel('Loyalty Points')\n",
        "        plt.title('POL Block Chain Benefits by Bank')\n",
        "        plt.xticks(rotation=45, ha='right')\n",
        "        plt.tight_layout()\n",
        "        plt.show()\n",
        "\n",
        "        # Ensure menu is displayed clearly after chart\n",
        "        print(\"\\nReturning to main menu...\")\n",
        "\n",
        "    def display_block_count_summary(self):\n",
        "        print(\"Block Count Summary\")\n",
        "        summary = {}\n",
        "        total_blocks = len(self.chain)\n",
        "        for block in self.chain:\n",
        "            key = (block['country'], block['bank'])\n",
        "            if key not in summary:\n",
        "                summary[key] = {'cheque_blocks': 0}\n",
        "            summary[key]['cheque_blocks'] += 1\n",
        "        for (country, bank), data in sorted(summary.items(), key=lambda item: item[1]['cheque_blocks'], reverse=True):\n",
        "            contribution = (data['cheque_blocks'] / total_blocks) * 100\n",
        "            print(f\"Country: {country}, Bank: {bank}, Cheque Blocks: {data['cheque_blocks']}, Contribution: {contribution:.2f}%\")\n",
        "        print(f\"Overall Block Count: {total_blocks}\")\n",
        "\n",
        "    def print_chain(self):\n",
        "        for block in self.chain:\n",
        "            print(f\"Block Number: {block['block_number']}, Previous Block: {block['previous_block']}, Next Block: {block['next_block']}, Block ID: {block['overall_hash_key']}, Details: {block}\")\n",
        "\n",
        "# Mount Google Drive\n",
        "def mount_google_drive():\n",
        "    drive.mount('/content/drive')\n",
        "\n",
        "\n",
        "# Function to load data from the specified CSV file\n",
        "def metrics_load_csv_data(filepath):\n",
        "    records = []\n",
        "    with open(filepath, mode='r') as file:\n",
        "        csv_reader = csv.DictReader(file)\n",
        "        for row in csv_reader:\n",
        "            records.append(row)\n",
        "    return records\n",
        "\n",
        "# Function to calculate average time taken for blockchain-only validation\n",
        "def metrics_calculate_pl_blockchain_only(blockchain, records):\n",
        "    start_time = time.time()\n",
        "    for record in records:\n",
        "        routing = record['Routing']\n",
        "        swift = record['SWIFT']\n",
        "        account = record['Account']\n",
        "        check_number = record['CheckNumber']\n",
        "        blockchain.is_cheque_present(routing, swift, account, check_number)\n",
        "    end_time = time.time()\n",
        "    return (end_time - start_time) / len(records)\n",
        "\n",
        "# Function to calculate average time taken for blockchain with GAN validation\n",
        "def metrics_calculate_pl_blockchain_with_gan(blockchain, records):\n",
        "    start_time = time.time()\n",
        "    for record in records:\n",
        "        routing = record['Routing']\n",
        "        swift = record['SWIFT']\n",
        "        account = record['Account']\n",
        "        check_number = record['CheckNumber']\n",
        "        matching_block = blockchain.is_cheque_present(routing, swift, account, check_number)\n",
        "        if not matching_block:\n",
        "            ValidateChequeAIAnalysis(routing, swift, account, check_number)\n",
        "    end_time = time.time()\n",
        "    return (end_time - start_time) / len(records)\n",
        "\n",
        "# Function to display a comparative chart\n",
        "def metrics_display_comparative_chart(regular_time, blockchain_only_time, blockchain_with_gan_time):\n",
        "    labels = ['Regular Cases', 'PLBlockChainOnly', 'PLBlockChainWithGAN']\n",
        "    times = [regular_time, blockchain_only_time, blockchain_with_gan_time]\n",
        "\n",
        "    plt.figure(figsize=(8, 6))\n",
        "    plt.bar(labels, times, color=['blue', 'green', 'orange'])\n",
        "    for i, v in enumerate(times):\n",
        "        plt.text(i, v + 0.2, f\"{v:.2f}s\", ha='center')\n",
        "\n",
        "    plt.title('Comparative Analysis of Validation Times')\n",
        "    plt.xlabel('Validation Method')\n",
        "    plt.ylabel('Time Taken (seconds)')\n",
        "    plt.show()\n",
        "\n",
        "# Main displayAnalysis method\n",
        "def metrics_display_analysis(blockchain):\n",
        "    print(\"Mounting Google Drive...\")\n",
        "    mount_google_drive()\n",
        "\n",
        "    filepath = '/content/drive/My Drive/020250104PHD/data/ChequeDataForValidationForMetrics.csv'\n",
        "    print(f\"Loading records from {filepath}...\")\n",
        "    records = metrics_load_csv_data(filepath)\n",
        "\n",
        "    print(\"Calculating average time for PLBlockChainOnly...\")\n",
        "    blockchain_only_time = metrics_calculate_pl_blockchain_only(blockchain, records)\n",
        "\n",
        "    print(\"Calculating average time for PLBlockChainWithGAN...\")\n",
        "    blockchain_with_gan_time = metrics_calculate_pl_blockchain_with_gan(blockchain, records)\n",
        "\n",
        "    regular_time = 48 * 3600  # Regular cases time in seconds (48 hours)\n",
        "\n",
        "    print(\"Generating comparative chart...\")\n",
        "    metrics_display_comparative_chart(regular_time, blockchain_only_time, blockchain_with_gan_time)\n",
        "\n",
        "\n",
        "# Step 3: Configuration Parameters\n",
        "def pcgan_get_config():\n",
        "    return {\n",
        "        \"data_dir\": '/content/drive/My Drive/020250104PHD/data',\n",
        "        \"file_name\": 'usa_check_dataset.csv',\n",
        "        \"latent_dim\": 8,  # Latent space dimensionality\n",
        "        \"epochs\": 10,  # Number of epochs\n",
        "        \"batch_size\": 16,  # Batch size\n",
        "        \"display_interval\": 1  # Interval to display progress\n",
        "    }\n",
        "\n",
        "# Step 4: Load Dataset\n",
        "def pcgan_load_dataset(config):\n",
        "    file_path = os.path.join(config[\"data_dir\"], config[\"file_name\"])\n",
        "    data = pd.read_csv(file_path)\n",
        "    required_columns = ['Routing Number', 'SWIFT Code', 'Account Number', 'Check Number', 'Validation Result']\n",
        "    return data[required_columns]\n",
        "\n",
        "# Step 5: Ask for Number of Records\n",
        "def pcgan_filter_records(data, default_records=10):\n",
        "    # Use the default number of records or all if fewer records are available.\n",
        "    return data.iloc[:default_records] if default_records > 0 else data\n",
        "\n",
        "# Step 6: Preprocess Data\n",
        "def pcgan_preprocess_data(data):\n",
        "    label_encoders = {}\n",
        "    scaler = MinMaxScaler()\n",
        "\n",
        "    # Encode categorical column: SWIFT Code\n",
        "    le = LabelEncoder()\n",
        "    data['SWIFT Code'] = le.fit_transform(data['SWIFT Code'])\n",
        "    label_encoders['SWIFT Code'] = le\n",
        "\n",
        "    # Encode Validation Result (True/False to 1/0)\n",
        "    data['Validation Result'] = data['Validation Result'].astype(int)\n",
        "\n",
        "    # Scale numerical columns\n",
        "    numerical_cols = ['Routing Number', 'SWIFT Code', 'Account Number', 'Check Number']\n",
        "    data[numerical_cols] = scaler.fit_transform(data[numerical_cols])\n",
        "\n",
        "    return data, label_encoders, scaler\n",
        "\n",
        "# Step 7: Build Generator\n",
        "def pcgan_build_generator(latent_dim, input_dim):\n",
        "    total_input_dim = latent_dim + input_dim\n",
        "    model = models.Sequential([\n",
        "        layers.Dense(32, activation='relu', input_dim=total_input_dim),\n",
        "        layers.Dense(64, activation='relu'),\n",
        "        layers.Dense(input_dim, activation='linear')  # Match feature space\n",
        "    ])\n",
        "    return model\n",
        "\n",
        "# Step 8: Build Discriminator\n",
        "def pcgan_build_discriminator(input_dim):\n",
        "    model = models.Sequential([\n",
        "        layers.Dense(64, activation='relu', input_dim=input_dim),\n",
        "        layers.Dense(32, activation='relu'),\n",
        "        layers.Dense(1, activation='sigmoid')  # Binary classification: Real/Fake\n",
        "    ])\n",
        "    return model\n",
        "\n",
        "# Step 9: Train PCGAN\n",
        "def pcgan_train_pcgan(generator, discriminator, pcgan, X_train, latent_dim, epochs, batch_size, display_interval):\n",
        "    for epoch in range(epochs):\n",
        "        idx = np.random.randint(0, X_train.shape[0], batch_size)\n",
        "        real_data = X_train[idx]\n",
        "        noise = np.random.normal(0, 1, (batch_size, latent_dim))\n",
        "        combined_input = np.hstack((noise, real_data))  # Combine latent and conditional data\n",
        "        fake_data = generator.predict(combined_input)\n",
        "\n",
        "        real_labels = np.ones((batch_size, 1))\n",
        "        fake_labels = np.zeros((batch_size, 1))\n",
        "\n",
        "        d_loss_real = discriminator.train_on_batch(real_data, real_labels)\n",
        "        d_loss_fake = discriminator.train_on_batch(fake_data, fake_labels)\n",
        "        d_loss = 0.5 * np.add(d_loss_real, d_loss_fake)\n",
        "\n",
        "        g_loss = pcgan.train_on_batch([noise, real_data], real_labels)\n",
        "\n",
        "        if epoch % display_interval == 0:\n",
        "            d_loss_value = d_loss[0] if isinstance(d_loss, (list, np.ndarray)) else d_loss\n",
        "            g_loss_value = g_loss[0] if isinstance(g_loss, (list, np.ndarray)) else g_loss\n",
        "            print(f\"Epoch {epoch} | D Loss: {d_loss_value:.4f} | G Loss: {g_loss_value:.4f}\")\n",
        "\n",
        "# Step 10: Generate PCGAN Score\n",
        "def pcgan_generate_pcgan_score(generator, discriminator, check_data, label_encoders, scaler, latent_dim):\n",
        "    check_data[1] = label_encoders['SWIFT Code'].transform([check_data[1]])[0]  # Encode SWIFT Code\n",
        "    check_data_scaled = scaler.transform([check_data])\n",
        "    condition = check_data_scaled\n",
        "    noise = np.random.normal(0, 1, (1, latent_dim))\n",
        "    combined_input = np.hstack((noise, condition))\n",
        "    synthetic_check = generator.predict(combined_input)\n",
        "    validity = discriminator.predict(synthetic_check)\n",
        "    return validity[0][0]\n",
        "\n",
        "# Main Execution\n",
        "\n",
        "pcgantrained = 0\n",
        "\n",
        "# Localizing variables inside pcgan_main\n",
        "def pcgan_main(input_check):\n",
        "    mount_google_drive()\n",
        "    config = pcgan_get_config()\n",
        "\n",
        "    # Load and preprocess data\n",
        "    data = pcgan_load_dataset(config)\n",
        "    data = pcgan_filter_records(data, default_records=10)\n",
        "    print(f\"Number of records used for training: {len(data)}\")\n",
        "    processed_data, label_encoders, scaler = pcgan_preprocess_data(data)\n",
        "    X_train = processed_data[['Routing Number', 'SWIFT Code', 'Account Number', 'Check Number']].values\n",
        "\n",
        "    # Build models\n",
        "    generator = pcgan_build_generator(config[\"latent_dim\"], X_train.shape[1])\n",
        "    discriminator = pcgan_build_discriminator(X_train.shape[1])\n",
        "    discriminator.compile(optimizer='adam', loss='binary_crossentropy', metrics=['accuracy'])\n",
        "\n",
        "    # PCGAN model\n",
        "    discriminator.trainable = False\n",
        "    z = layers.Input(shape=(config[\"latent_dim\"],))\n",
        "    condition = layers.Input(shape=(X_train.shape[1],))\n",
        "    combined_input = layers.Concatenate()([z, condition])\n",
        "    generated_data = generator(combined_input)\n",
        "    validity = discriminator(generated_data)\n",
        "\n",
        "    pcgan = models.Model([z, condition], validity)\n",
        "    pcgan.compile(optimizer='adam', loss='binary_crossentropy')\n",
        "\n",
        "    # Train PCGAN\n",
        "    pcgan_train_pcgan(generator, discriminator, pcgan, X_train, config[\"latent_dim\"], config[\"epochs\"], config[\"batch_size\"], config[\"display_interval\"])\n",
        "\n",
        "    # Test PCGAN Score\n",
        "    score = pcgan_generate_pcgan_score(generator, discriminator, input_check, label_encoders, scaler, config[\"latent_dim\"])\n",
        "    print(f\"PCGAN Score for the input check: {score:.4f}\")\n",
        "\n",
        "\n",
        "# Load data into the blockchain\n",
        "def load_data_from_file(blockchain, file_path, max_records=None):\n",
        "    if not os.path.exists(file_path):\n",
        "        print(f\"File not found: {file_path}\")\n",
        "        return\n",
        "    print(f\"Loading data from {file_path}...\")\n",
        "    with open(file_path, 'r') as file:\n",
        "        reader = csv.DictReader(file)\n",
        "        for i, row in enumerate(reader):\n",
        "            if max_records is not None and i >= max_records:\n",
        "                break\n",
        "            country = row['Country']\n",
        "            bank = row['Bank']\n",
        "            branch = row['Branch']\n",
        "            routing = row['Routing']\n",
        "            swift = row['SWIFT']\n",
        "            account = row['Account']\n",
        "            checkbook_number = row['CheckBookNo']\n",
        "            check_start = int(row['CheckStart'])\n",
        "            check_end = int(row['CheckEnd'])\n",
        "            for check_number in range(check_start, check_end + 1):\n",
        "                block = {\n",
        "                    'country': country,\n",
        "                    'bank': bank,\n",
        "                    'branch': branch,\n",
        "                    'routing': routing,\n",
        "                    'swift': swift,\n",
        "                    'account': account,\n",
        "                    'checkbook_number': checkbook_number,\n",
        "                    'check_number': check_number,\n",
        "                    'timestamp': None,\n",
        "                    'cheque_used': 'N',\n",
        "                }\n",
        "                blockchain.add_block(block)\n",
        "\n",
        "def print_blockchain(blockchain):\n",
        "    try:\n",
        "        num_blocks = int(input(\"Enter the number of blocks to print (or press Enter to print all): \") or len(blockchain.chain))\n",
        "    except ValueError:\n",
        "        print(\"Invalid input. Printing all blocks.\")\n",
        "        num_blocks = len(blockchain.chain)\n",
        "\n",
        "    print(f\"\\nDisplaying {min(num_blocks, len(blockchain.chain))} block(s):\\n\")\n",
        "    for block in blockchain.chain[:num_blocks]:\n",
        "        print(f\"Block Number: {block['block_number']}, Previous Block: {block['previous_block']}, Next Block: {block['next_block']}, Block ID: {block['overall_hash_key']}, Details: {block}\")\n",
        "\n",
        "\n",
        "def add_block_manually(blockchain):\n",
        "    country = input(\"Enter Country: \")\n",
        "    bank = input(\"Enter Bank: \")\n",
        "    branch = input(\"Enter Branch: \")\n",
        "    routing = input(\"Enter Routing: \")\n",
        "    swift = input(\"Enter SWIFT: \")\n",
        "    account = input(\"Enter Account: \")\n",
        "    check_number = int(input(\"Enter Check Number: \"))\n",
        "\n",
        "    block = {\n",
        "        'country': country,\n",
        "        'bank': bank,\n",
        "        'branch': branch,\n",
        "        'routing': routing,\n",
        "        'swift': swift,\n",
        "        'account': account,\n",
        "        'checkbook_number': '',  # Default to empty value\n",
        "        'check_number': check_number,\n",
        "        'timestamp': None,  # Will be set by add_block\n",
        "        'cheque_used': 'N',  # Default to 'N'\n",
        "    }\n",
        "    blockchain.add_block(block)\n",
        "    print(\"Block added successfully!\")\n",
        "\n",
        "def validate_cheque(blockchain):\n",
        "    routing = input(\"Enter Routing: \")\n",
        "    swift = input(\"Enter SWIFT: \")\n",
        "    account = input(\"Enter Account: \")\n",
        "    check_number = int(input(\"Enter Check Number: \"))\n",
        "\n",
        "    matching_block = blockchain.is_cheque_present(routing, swift, account, check_number)\n",
        "\n",
        "    if matching_block:\n",
        "        print(f\"Cheque found: {matching_block}\")\n",
        "        print(\"Cheque is Valid\")\n",
        "    else:\n",
        "        print(\"Check not found in Block Chain.\")\n",
        "        ValidateChequeAIAnalysis(routing, swift, account, check_number)\n",
        "        print(\"AI Analysis\")\n",
        "\n",
        "def ValidateChequeAIAnalysis(routing, swift, account, check_number):\n",
        "    # Placeholder for AI Analysis logic\n",
        "    print(f\"Running AI Analysis for Routing: {routing}, SWIFT: {swift}, Account: {account}, Check Number: {check_number}\")\n",
        "    input_check = [66017612, 'CITIUS94XXX', 302485339207, 77058716]  # Example input\n",
        "    pcgan_main(input_check)\n",
        "\n",
        "# Main menu\n",
        "def main_menu():\n",
        "    print(\"Max Records to be Loaded from Each Data file (Leave blank to load all):\")\n",
        "    try:\n",
        "        max_records = input(\"Enter number of records to load (or press Enter for all): \")\n",
        "        max_records = int(max_records) if max_records.strip() else None\n",
        "    except ValueError:\n",
        "        print(\"Invalid input. Loading all records.\")\n",
        "        max_records = None\n",
        "    blockchain = Blockchain()\n",
        "    print(\"Mounting Google Drive...\")\n",
        "    mount_google_drive()\n",
        "    base_dir = '/content/drive/My Drive/020250104PHD/data'\n",
        "    data_files = [\n",
        "        os.path.join(base_dir, \"USACheckBookData.csv\"),\n",
        "        os.path.join(base_dir, \"CanadaCheckBookData.csv\"),\n",
        "        os.path.join(base_dir, \"IndiaCheckBookData.csv\")\n",
        "    ]\n",
        "    for file_path in data_files:\n",
        "        load_data_from_file(blockchain, file_path, max_records=max_records)\n",
        "    while True:\n",
        "\n",
        "        print(\"\\n***************************************\")\n",
        "        print(\"\\nBank Cheque Validation\")\n",
        "        print(\"\\nMantena S Varma, KLU 2102033103:\")\n",
        "        print(\"\\n***************************************\")\n",
        "        print(\"\\n\\nMenu:\")\n",
        "\n",
        "        print(\"1. Print Blockchain\")\n",
        "        print(\"2. Add Block (Manually input cheque data)\")\n",
        "        print(\"3. Validate Cheque\")\n",
        "        print(\"4. Print Count of Blocks by Bank\")\n",
        "        print(\"5. Print POL Block Chain Benefits by Bank\")\n",
        "        print(\"6. Display Metrics\")\n",
        "        print(\"7. Exit\\n\\n\")\n",
        "        choice = input(\"Enter your choice: \")\n",
        "        if choice == \"1\":\n",
        "            print_blockchain(blockchain)\n",
        "        elif choice == \"2\":\n",
        "            add_block_manually(blockchain)\n",
        "        elif choice == \"3\":\n",
        "            validate_cheque(blockchain)\n",
        "        elif choice == \"4\":\n",
        "            blockchain.display_block_count_summary()\n",
        "        elif choice == \"5\":\n",
        "            blockchain.display_pol_benefits()\n",
        "        elif choice == \"6\":\n",
        "            metrics_display_analysis(blockchain)\n",
        "            break\n",
        "        elif choice == \"7\":\n",
        "            print(\"Exiting... Goodbye!\")\n",
        "            break\n",
        "        else:\n",
        "            print(\"Invalid choice. Please try again.\")\n",
        "\n",
        "if __name__ == \"__main__\":\n",
        "   main_menu()\n"
      ]
    },
    {
      "cell_type": "code",
      "source": [],
      "metadata": {
        "id": "cFI0CJs1o0XZ"
      },
      "execution_count": null,
      "outputs": []
    }
  ],
  "metadata": {
    "colab": {
      "provenance": [],
      "include_colab_link": true
    },
    "kernelspec": {
      "display_name": "Python 3",
      "name": "python3"
    },
    "language_info": {
      "name": "python"
    }
  },
  "nbformat": 4,
  "nbformat_minor": 0
}