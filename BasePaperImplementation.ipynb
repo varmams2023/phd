{
  "nbformat": 4,
  "nbformat_minor": 0,
  "metadata": {
    "colab": {
      "provenance": [],
      "authorship_tag": "ABX9TyNlyaHL10Q/pAtzIanwaHpf",
      "include_colab_link": true
    },
    "kernelspec": {
      "name": "python3",
      "display_name": "Python 3"
    },
    "language_info": {
      "name": "python"
    }
  },
  "cells": [
    {
      "cell_type": "markdown",
      "metadata": {
        "id": "view-in-github",
        "colab_type": "text"
      },
      "source": [
        "<a href=\"https://colab.research.google.com/github/varmams2023/phd/blob/main/BasePaperImplementation.ipynb\" target=\"_parent\"><img src=\"https://colab.research.google.com/assets/colab-badge.svg\" alt=\"Open In Colab\"/></a>"
      ]
    },
    {
      "cell_type": "code",
      "source": [
        "# Import required libraries\n",
        "from google.colab import drive\n",
        "drive.mount('/content/drive')"
      ],
      "metadata": {
        "colab": {
          "base_uri": "https://localhost:8080/"
        },
        "id": "gT3_hYqWKqRX",
        "outputId": "314ee5d8-1dc6-4372-a98f-7404b101e3aa"
      },
      "execution_count": 3,
      "outputs": [
        {
          "output_type": "stream",
          "name": "stdout",
          "text": [
            "Mounted at /content/drive\n"
          ]
        }
      ]
    },
    {
      "cell_type": "code",
      "source": [
        "# Import required libraries\n",
        "import pandas as pd\n",
        "import hashlib\n",
        "import json\n",
        "import random"
      ],
      "metadata": {
        "id": "wr8mh8RkKzno"
      },
      "execution_count": 4,
      "outputs": []
    },
    {
      "cell_type": "code",
      "source": [
        "# Define the structure of the blockchain (in-memory version)\n",
        "blockchain = []"
      ],
      "metadata": {
        "id": "Jj_-B0DYLDlS"
      },
      "execution_count": 5,
      "outputs": []
    },
    {
      "cell_type": "code",
      "source": [
        "# Create a simple blockchain class for handling the blocks\n",
        "class Blockchain:\n",
        "    def __init__(self):\n",
        "        self.chain = []\n",
        "\n",
        "    def add_block(self, data):\n",
        "        block = {\n",
        "            'data': data,\n",
        "            'hash': self.calculate_hash(data)\n",
        "        }\n",
        "        self.chain.append(block)\n",
        "\n",
        "    def calculate_hash(self, data):\n",
        "        # SHA-256 hash calculation for integrity verification\n",
        "        return hashlib.sha256(json.dumps(data, sort_keys=True).encode()).hexdigest()\n",
        "\n",
        "    def verify_check(self, check_data):\n",
        "        # Verify if the check exists in the blockchain\n",
        "        for block in self.chain:\n",
        "            if block['hash'] == self.calculate_hash(check_data):\n",
        "                return True\n",
        "        return False\n",
        "\n",
        "    def get_check_count_by_bank(self):\n",
        "        # Count the checks per bank in the blockchain\n",
        "        bank_check_count = {}\n",
        "        for block in self.chain:\n",
        "            bank_name = block['data']['Bank Name']\n",
        "            if bank_name not in bank_check_count:\n",
        "                bank_check_count[bank_name] = 0\n",
        "            bank_check_count[bank_name] += 1\n",
        "        return bank_check_count\n",
        "\n",
        "    def get_check_count(self):\n",
        "        # Returns the total number of checks in the blockchain\n",
        "        return len(self.chain)"
      ],
      "metadata": {
        "id": "d9DgzffzLNbo"
      },
      "execution_count": 6,
      "outputs": []
    },
    {
      "cell_type": "code",
      "source": [
        "# Initialize the blockchain\n",
        "bc = Blockchain()"
      ],
      "metadata": {
        "id": "o_7T7NSALWxf"
      },
      "execution_count": 7,
      "outputs": []
    },
    {
      "cell_type": "code",
      "source": [
        "# Load dataset (first 100 records)\n",
        "df = pd.read_csv('/content/drive/MyDrive/phd/dataset/ChequeDataSetFull.csv')\n",
        "df = df.head(100)  # Select the first 100 records"
      ],
      "metadata": {
        "id": "bVcsnWgYLZnC"
      },
      "execution_count": 8,
      "outputs": []
    },
    {
      "cell_type": "code",
      "source": [
        "# Show the structure of the dataset\n",
        "print(df.head(5))"
      ],
      "metadata": {
        "colab": {
          "base_uri": "https://localhost:8080/"
        },
        "id": "I-mmQYQAL5Cu",
        "outputId": "863ab2ed-4078-44ef-f7c0-ea105286396f"
      },
      "execution_count": 11,
      "outputs": [
        {
          "output_type": "stream",
          "name": "stdout",
          "text": [
            "   CheckNumber  AccountNumber         PayeeName     BankBranchAddress  \\\n",
            "0     65782867     3156841378      Devika Reddy   Mumbai, Maharashtra   \n",
            "1     56855036     7130589870      Aanya Sharma          Delhi, Delhi   \n",
            "2     56982282     6628410133  Arjun Chatterjee  Bangalore, Karnataka   \n",
            "3     21181788     1985965527       Ishan Joshi  Bangalore, Karnataka   \n",
            "4     13415092     3275070587         Arjun Das          Delhi, Delhi   \n",
            "\n",
            "              BankName   MICRCode  CIFNumber  AmountNumeric Signature  \\\n",
            "0  State Bank of India  105927300   30419218          21915       Yes   \n",
            "1  State Bank of India  590596141   29585342          38676       Yes   \n",
            "2  State Bank of India  528136846   83667001          56308        No   \n",
            "3           ICICI Bank  597805830   92103520          96332       Yes   \n",
            "4            Axis Bank  373503609   27742822          42290       Yes   \n",
            "\n",
            "  Watermark Security Features DateOfIssue DateOfClearance  \\\n",
            "0       Yes               Yes  2023-01-02             NaN   \n",
            "1        No                No  2020-02-25             NaN   \n",
            "2       Yes               Yes  2022-06-27             NaN   \n",
            "3       Yes               Yes  2023-08-08             NaN   \n",
            "4       Yes                No  2023-01-28             NaN   \n",
            "\n",
            "  VerificationWithIssuingBank CheckStatus ReasonForFakeStatus     IFSCCode  \n",
            "0                          No       Valid                 NaN  SBIN0008572  \n",
            "1                         Yes       Valid                 NaN  SBIN0008316  \n",
            "2                         Yes       Valid                 NaN  SBIN0002241  \n",
            "3                         Yes       Valid   Invalid watermark  ICIC0005164  \n",
            "4                         Yes        Fake                 NaN  UTIB0001101  \n"
          ]
        }
      ]
    }
  ]
}