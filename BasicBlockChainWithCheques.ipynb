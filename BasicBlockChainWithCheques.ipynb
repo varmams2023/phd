{
  "nbformat": 4,
  "nbformat_minor": 0,
  "metadata": {
    "colab": {
      "provenance": [],
      "authorship_tag": "ABX9TyO7O9EYZhXvHeDVb9B0xbMS",
      "include_colab_link": true
    },
    "kernelspec": {
      "name": "python3",
      "display_name": "Python 3"
    },
    "language_info": {
      "name": "python"
    }
  },
  "cells": [
    {
      "cell_type": "markdown",
      "metadata": {
        "id": "view-in-github",
        "colab_type": "text"
      },
      "source": [
        "<a href=\"https://colab.research.google.com/github/varmams2023/phd/blob/main/BasicBlockChainWithCheques.ipynb\" target=\"_parent\"><img src=\"https://colab.research.google.com/assets/colab-badge.svg\" alt=\"Open In Colab\"/></a>"
      ]
    },
    {
      "cell_type": "code",
      "execution_count": 3,
      "metadata": {
        "id": "bYYhLo-0em57",
        "outputId": "e3561daa-5a5c-463a-fbe7-8a0489e669c2",
        "colab": {
          "base_uri": "https://localhost:8080/"
        }
      },
      "outputs": [
        {
          "output_type": "stream",
          "name": "stdout",
          "text": [
            "Collecting colorama\n",
            "  Downloading colorama-0.4.6-py2.py3-none-any.whl.metadata (17 kB)\n",
            "Downloading colorama-0.4.6-py2.py3-none-any.whl (25 kB)\n",
            "Installing collected packages: colorama\n",
            "Successfully installed colorama-0.4.6\n"
          ]
        },
        {
          "output_type": "stream",
          "name": "stderr",
          "text": [
            "Adding Cheques to Blockchain: 100%|██████████| 3/3 [00:00<00:00, 15087.42cheque/s]\n"
          ]
        },
        {
          "output_type": "stream",
          "name": "stdout",
          "text": [
            "\n",
            "Block #0 (1734674168.068156)\n",
            "Check Number: 0\n",
            "Payee Name: Genesis\n",
            "Bank Name: Genesis Bank\n",
            "Account Number: 000000\n",
            "Routing Number: 000000\n",
            "Hash: b4059bbc31bc5f89c5359177fbcabe665d612953b409a28ceaed6b63abc0f8bf\n",
            "\n",
            "\n",
            "Block #1 (1734674168.0749948)\n",
            "Check Number: 1001\n",
            "Payee Name: John Doe\n",
            "Bank Name: Bank of America\n",
            "Account Number: 123456789\n",
            "Routing Number: 987654321\n",
            "Hash: 0aa99349ab75149e0a27f2afc33466703b99870f7dfcb8ee8431b5c75224827f\n",
            "\n",
            "\n",
            "Block #2 (1734674168.075068)\n",
            "Check Number: 1002\n",
            "Payee Name: Jane Smith\n",
            "Bank Name: Chase Bank\n",
            "Account Number: 987654321\n",
            "Routing Number: 123456789\n",
            "Hash: 0f7468414e4d10cc7eac0df3672543cdd3b63872121ea577a87bab5d6e3f337e\n",
            "\n",
            "\n",
            "Block #3 (1734674168.0750957)\n",
            "Check Number: 1003\n",
            "Payee Name: Emily Davis\n",
            "Bank Name: Wells Fargo\n",
            "Account Number: 111223344\n",
            "Routing Number: 443322110\n",
            "Hash: d66b57683cb70fff2cc09975134d942860ae56b5f5216a4a8a5d89c585d313fe\n",
            "\n",
            "\n",
            "Validating Cheque #1001: Valid Cheque\n"
          ]
        }
      ],
      "source": [
        "!pip install colorama\n",
        "\n",
        "import hashlib\n",
        "import json\n",
        "from time import time\n",
        "from typing import List\n",
        "from colorama import Fore, Style, init\n",
        "from tqdm import tqdm  # For progress bar\n",
        "\n",
        "init(autoreset=True)  # Initialize colorama\n",
        "\n",
        "# Block class to represent each block in the blockchain\n",
        "class Block:\n",
        "    def __init__(self, index, timestamp, cheque_data, previous_hash):\n",
        "        self.index = index\n",
        "        self.timestamp = timestamp\n",
        "        self.cheque_data = cheque_data\n",
        "        self.previous_hash = previous_hash\n",
        "        self.hash = self.calculate_hash()\n",
        "\n",
        "    def calculate_hash(self):\n",
        "        block_string = json.dumps(self.__dict__, sort_keys=True)\n",
        "        return hashlib.sha256(block_string.encode()).hexdigest()\n",
        "\n",
        "\n",
        "# Blockchain class to handle blockchain operations\n",
        "class Blockchain:\n",
        "    def __init__(self):\n",
        "        self.chain = []\n",
        "        self.pending_cheques = []\n",
        "        self.create_genesis_block()\n",
        "\n",
        "    def create_genesis_block(self):\n",
        "        # Manually construct the first block\n",
        "        genesis_block = Block(0, time(), {\"check_number\": \"0\", \"payee_name\": \"Genesis\", \"bank_name\": \"Genesis Bank\", \"account_number\": \"000000\", \"routing_number\": \"000000\"}, \"0\")\n",
        "        self.chain.append(genesis_block)\n",
        "\n",
        "    def add_cheque(self, cheque_data):\n",
        "        # Add cheque data to the blockchain\n",
        "        previous_hash = self.chain[-1].hash\n",
        "        new_block = Block(len(self.chain), time(), cheque_data, previous_hash)\n",
        "        self.chain.append(new_block)\n",
        "        self.pending_cheques = []  # Reset pending cheques after adding\n",
        "\n",
        "    def validate_cheque(self, cheque_data):\n",
        "        # Validate cheque information by checking the data's hash\n",
        "        for block in self.chain:\n",
        "            if block.cheque_data == cheque_data:\n",
        "                return True  # Valid cheque data found\n",
        "        return False\n",
        "\n",
        "    def display_chain(self):\n",
        "        # Display the blockchain\n",
        "        for block in self.chain:\n",
        "            print(f\"\\n{Fore.GREEN}Block #{block.index} ({Fore.CYAN}{block.timestamp}{Style.RESET_ALL})\")\n",
        "            print(f\"{Fore.YELLOW}Check Number: {block.cheque_data['check_number']}\")\n",
        "            print(f\"{Fore.YELLOW}Payee Name: {block.cheque_data['payee_name']}\")\n",
        "            print(f\"{Fore.YELLOW}Bank Name: {block.cheque_data['bank_name']}\")\n",
        "            print(f\"{Fore.YELLOW}Account Number: {block.cheque_data['account_number']}\")\n",
        "            print(f\"{Fore.YELLOW}Routing Number: {block.cheque_data['routing_number']}\")\n",
        "            print(f\"{Fore.BLUE}Hash: {block.hash}\\n\")\n",
        "\n",
        "\n",
        "# Function to simulate the addition of cheque data to the blockchain\n",
        "def add_cheques_to_blockchain(blockchain, cheques: List[dict]):\n",
        "    for cheque in tqdm(cheques, desc=\"Adding Cheques to Blockchain\", unit=\"cheque\"):\n",
        "        blockchain.add_cheque(cheque)\n",
        "\n",
        "\n",
        "# Simulated cheque data\n",
        "cheques_data = [\n",
        "    {\"check_number\": \"1001\", \"payee_name\": \"John Doe\", \"bank_name\": \"Bank of America\", \"account_number\": \"123456789\", \"routing_number\": \"987654321\"},\n",
        "    {\"check_number\": \"1002\", \"payee_name\": \"Jane Smith\", \"bank_name\": \"Chase Bank\", \"account_number\": \"987654321\", \"routing_number\": \"123456789\"},\n",
        "    {\"check_number\": \"1003\", \"payee_name\": \"Emily Davis\", \"bank_name\": \"Wells Fargo\", \"account_number\": \"111223344\", \"routing_number\": \"443322110\"}\n",
        "]\n",
        "\n",
        "# Initialize the blockchain\n",
        "blockchain = Blockchain()\n",
        "\n",
        "# Add cheques to the blockchain\n",
        "add_cheques_to_blockchain(blockchain, cheques_data)\n",
        "\n",
        "# Display the blockchain\n",
        "blockchain.display_chain()\n",
        "\n",
        "# Validation Example\n",
        "print(\"\\n\" + Fore.RED + \"Validating Cheque #1001: \" + Style.RESET_ALL, end=\"\")\n",
        "is_valid = blockchain.validate_cheque({\"check_number\": \"1001\", \"payee_name\": \"John Doe\", \"bank_name\": \"Bank of America\", \"account_number\": \"123456789\", \"routing_number\": \"987654321\"})\n",
        "if is_valid:\n",
        "    print(Fore.GREEN + \"Valid Cheque\")\n",
        "else:\n",
        "    print(Fore.RED + \"Invalid Cheque\")\n"
      ]
    }
  ]
}