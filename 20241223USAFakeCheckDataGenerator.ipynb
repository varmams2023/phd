{
  "nbformat": 4,
  "nbformat_minor": 0,
  "metadata": {
    "colab": {
      "provenance": [],
      "authorship_tag": "ABX9TyPNB7SRWlRgqkQKi8YqSo9M",
      "include_colab_link": true
    },
    "kernelspec": {
      "name": "python3",
      "display_name": "Python 3"
    },
    "language_info": {
      "name": "python"
    }
  },
  "cells": [
    {
      "cell_type": "markdown",
      "metadata": {
        "id": "view-in-github",
        "colab_type": "text"
      },
      "source": [
        "<a href=\"https://colab.research.google.com/github/varmams2023/phd/blob/main/20241223USAFakeCheckDataGenerator.ipynb\" target=\"_parent\"><img src=\"https://colab.research.google.com/assets/colab-badge.svg\" alt=\"Open In Colab\"/></a>"
      ]
    },
    {
      "cell_type": "code",
      "execution_count": 4,
      "metadata": {
        "colab": {
          "base_uri": "https://localhost:8080/"
        },
        "id": "yHM4vpMT_thS",
        "outputId": "df3b8c49-c2ca-4194-c056-b2b6f10b4a66"
      },
      "outputs": [
        {
          "output_type": "stream",
          "name": "stdout",
          "text": [
            "Requirement already satisfied: Faker in /usr/local/lib/python3.10/dist-packages (33.1.0)\n",
            "Requirement already satisfied: python-dateutil>=2.4 in /usr/local/lib/python3.10/dist-packages (from Faker) (2.8.2)\n",
            "Requirement already satisfied: typing-extensions in /usr/local/lib/python3.10/dist-packages (from Faker) (4.12.2)\n",
            "Requirement already satisfied: six>=1.5 in /usr/local/lib/python3.10/dist-packages (from python-dateutil>=2.4->Faker) (1.17.0)\n",
            "10,000 fake cheque records have been generated and saved to 'fake_cheque_data_USA_2024-12-23_05-35-34.csv'.\n"
          ]
        }
      ],
      "source": [
        "# Install Faker library if not already installed\n",
        "!pip install Faker\n",
        "\n",
        "import random\n",
        "import string\n",
        "from faker import Faker\n",
        "import csv\n",
        "from datetime import datetime\n",
        "\n",
        "# Initialize Faker instance for USA locale\n",
        "fake = Faker('en_US')  # Set the locale to USA for realistic data\n",
        "\n",
        "# Function to generate fake cheque data\n",
        "def generate_fake_check_data_usa():\n",
        "    # Sample USA Bank Data (For demonstration purposes)\n",
        "    bank_data = {\n",
        "        \"Country\": \"USA\",\n",
        "        \"Bank\": random.choice([\"Bank of America\", \"Wells Fargo\", \"Chase\", \"Citibank\"]),\n",
        "        \"Branch\": fake.city(),  # Use city as branch name for realistic diversity\n",
        "        \"Payer\": fake.name(),  # Use Faker's name generation\n",
        "        \"Routing\": ''.join(random.choices(string.digits, k=9)),  # ABA routing number (9 digits)\n",
        "        \"SWIFT\": f\"SWIFT{random.randint(100000, 999999)}\",  # Random SWIFT code\n",
        "        \"Account\": ''.join(random.choices(string.digits, k=12)),  # Example account number (12 digits)\n",
        "        \"CheckNumber\": random.randint(10000000, 99999999),  # Random check number (8 digits)\n",
        "    }\n",
        "\n",
        "    return bank_data\n",
        "\n",
        "# Generate 10,000 fake cheque records\n",
        "def generate_bulk_fake_check_data(num_records):\n",
        "    return [generate_fake_check_data_usa() for _ in range(num_records)]\n",
        "\n",
        "# Generate the records\n",
        "cheque_data = generate_bulk_fake_check_data(10000)\n",
        "\n",
        "# Get the current timestamp\n",
        "timestamp = datetime.now().strftime(\"%Y-%m-%d_%H-%M-%S\")\n",
        "\n",
        "# Define the output file name with 'fake cheque' word and timestamp\n",
        "output_filename = f\"fake_cheque_data_USA_{timestamp}.csv\"\n",
        "\n",
        "# Short, informative column titles\n",
        "columns = [\n",
        "    \"Country\", \"Bank\", \"Branch\", \"Payer\", \"Routing\", \"SWIFT\",\n",
        "    \"Account\", \"FakeCheckNumber\"\n",
        "]\n",
        "\n",
        "# Save the generated data into a CSV file\n",
        "with open(output_filename, mode='w', newline='') as file:\n",
        "    writer = csv.DictWriter(file, fieldnames=columns)\n",
        "    writer.writeheader()\n",
        "    for record in cheque_data:\n",
        "        # Map the data to the new column names\n",
        "        row = {col: record.get(col) for col in columns}\n",
        "        writer.writerow(row)\n",
        "\n",
        "print(f\"10,000 fake cheque records have been generated and saved to '{output_filename}'.\")\n"
      ]
    }
  ]
}