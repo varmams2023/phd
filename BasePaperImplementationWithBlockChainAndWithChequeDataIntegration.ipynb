{
  "nbformat": 4,
  "nbformat_minor": 0,
  "metadata": {
    "colab": {
      "provenance": [],
      "authorship_tag": "ABX9TyOeszweBQexhG+aL8/7lk26",
      "include_colab_link": true
    },
    "kernelspec": {
      "name": "python3",
      "display_name": "Python 3"
    },
    "language_info": {
      "name": "python"
    }
  },
  "cells": [
    {
      "cell_type": "markdown",
      "metadata": {
        "id": "view-in-github",
        "colab_type": "text"
      },
      "source": [
        "<a href=\"https://colab.research.google.com/github/varmams2023/phd/blob/main/BasePaperImplementationWithBlockChainAndWithChequeDataIntegration.ipynb\" target=\"_parent\"><img src=\"https://colab.research.google.com/assets/colab-badge.svg\" alt=\"Open In Colab\"/></a>"
      ]
    },
    {
      "cell_type": "code",
      "source": [
        "!pip install colorama  # Install the colorama library"
      ],
      "metadata": {
        "colab": {
          "base_uri": "https://localhost:8080/"
        },
        "id": "zCqD9rdnweLZ",
        "outputId": "0812dfcf-facc-4d57-f7f1-da18311f67eb"
      },
      "execution_count": 4,
      "outputs": [
        {
          "output_type": "stream",
          "name": "stdout",
          "text": [
            "Requirement already satisfied: colorama in /usr/local/lib/python3.10/dist-packages (0.4.6)\n"
          ]
        }
      ]
    },
    {
      "cell_type": "code",
      "source": [
        "import hashlib\n",
        "import json\n",
        "import pandas as pd\n",
        "from time import time\n",
        "from typing import List\n",
        "from colorama import Fore, Style, init\n",
        "from tqdm import tqdm  # For progress bar\n",
        "from google.colab import drive"
      ],
      "metadata": {
        "id": "Qh1NWAUmzFFf"
      },
      "execution_count": 5,
      "outputs": []
    },
    {
      "cell_type": "code",
      "source": [
        "# Mount Google Drive to access the CSV file\n",
        "drive.mount('/content/drive')\n",
        "\n",
        "# Initialize colorama for colored outputs\n",
        "init(autoreset=True)"
      ],
      "metadata": {
        "colab": {
          "base_uri": "https://localhost:8080/"
        },
        "id": "ekBOtSevzKjj",
        "outputId": "7e4f24cb-b7ac-441e-a52d-2470f4eaa85a"
      },
      "execution_count": 6,
      "outputs": [
        {
          "output_type": "stream",
          "name": "stdout",
          "text": [
            "Drive already mounted at /content/drive; to attempt to forcibly remount, call drive.mount(\"/content/drive\", force_remount=True).\n"
          ]
        }
      ]
    },
    {
      "cell_type": "code",
      "source": [
        "# ---- Section 2: Block Class ----\n",
        "\n",
        "class Block:\n",
        "    \"\"\"Class to represent each block in the blockchain.\"\"\"\n",
        "\n",
        "    def __init__(self, index, timestamp, cheque_data, previous_hash):\n",
        "        self.index = index\n",
        "        self.timestamp = timestamp\n",
        "        self.cheque_data = cheque_data\n",
        "        self.previous_hash = previous_hash\n",
        "        self.hash = self.calculate_hash()\n",
        "\n",
        "    def calculate_hash(self):\n",
        "        \"\"\"Calculate the hash of the current block.\"\"\"\n",
        "        block_string = json.dumps(self.__dict__, sort_keys=True)\n",
        "        return hashlib.sha256(block_string.encode()).hexdigest()\n",
        "\n",
        "# Debug: Block Class Initialized\n",
        "print(\"Block Class Initialized.\")"
      ],
      "metadata": {
        "colab": {
          "base_uri": "https://localhost:8080/"
        },
        "id": "RBoZZOuMzQ9w",
        "outputId": "b24e979d-6f2f-43e5-8df3-79eaf10a9311"
      },
      "execution_count": 7,
      "outputs": [
        {
          "output_type": "stream",
          "name": "stdout",
          "text": [
            "Block Class Initialized.\n"
          ]
        }
      ]
    },
    {
      "cell_type": "code",
      "source": [
        "# ---- Section 3: Blockchain Class ----\n",
        "\n",
        "class Blockchain:\n",
        "    \"\"\"Class to handle blockchain operations.\"\"\"\n",
        "\n",
        "    def __init__(self):\n",
        "        self.chain = []\n",
        "        self.pending_cheques = []\n",
        "        self.create_genesis_block()\n",
        "\n",
        "    def create_genesis_block(self):\n",
        "        \"\"\"Create the first block (genesis block).\"\"\"\n",
        "        genesis_block = Block(0, time(), {\"check_number\": \"0\", \"payee_name\": \"Genesis\", \"bank_name\": \"Genesis Bank\", \"account_number\": \"000000\", \"ifsc_code\": \"000000\"}, \"0\")\n",
        "        self.chain.append(genesis_block)\n",
        "\n",
        "    def add_cheque(self, cheque_data):\n",
        "        \"\"\"Add cheque data as a new block to the blockchain.\"\"\"\n",
        "        previous_hash = self.chain[-1].hash\n",
        "        new_block = Block(len(self.chain), time(), cheque_data, previous_hash)\n",
        "        self.chain.append(new_block)\n",
        "        self.pending_cheques = []  # Reset pending cheques after adding\n",
        "\n",
        "    def add_cheques_to_blockchain(self, cheques: List[dict]):\n",
        "        \"\"\"Method to add multiple cheques to the blockchain.\"\"\"\n",
        "        for cheque in tqdm(cheques, desc=\"Adding Cheques to Blockchain\", unit=\"cheque\"):\n",
        "            self.add_cheque(cheque)\n",
        "\n",
        "    def validate_cheque(self, cheque_data):\n",
        "        \"\"\"Validate if the given cheque data exists in the blockchain.\"\"\"\n",
        "        for block in self.chain:\n",
        "            if block.cheque_data == cheque_data:\n",
        "                return True  # Valid cheque data found\n",
        "        return False\n",
        "\n",
        "    def display_chain(self, num_blocks=15):\n",
        "        \"\"\"Display a limited number of blocks from the blockchain.\"\"\"\n",
        "        print(f\"\\nDisplaying first {num_blocks} blocks from the blockchain:\\n\")\n",
        "        for block in self.chain[:num_blocks]:\n",
        "            print(f\"\\n{Fore.GREEN}Block #{block.index} ({Fore.CYAN}{block.timestamp}{Style.RESET_ALL})\")\n",
        "            print(f\"{Fore.YELLOW}Check Number: {block.cheque_data['check_number']}\")\n",
        "            print(f\"{Fore.YELLOW}Payee Name: {block.cheque_data['payee_name']}\")\n",
        "            print(f\"{Fore.YELLOW}Bank Name: {block.cheque_data['bank_name']}\")\n",
        "            print(f\"{Fore.YELLOW}Account Number: {block.cheque_data['account_number']}\")\n",
        "            print(f\"{Fore.YELLOW}IFSC Code: {block.cheque_data['ifsc_code']}\")\n",
        "            print(f\"{Fore.BLUE}Hash: {block.hash}\\n\")\n",
        "\n",
        "    def count_blocks_by_bank(self):\n",
        "        \"\"\"Count the number of blocks grouped by bank.\"\"\"\n",
        "        bank_count = {}\n",
        "        for block in self.chain:\n",
        "            bank_name = block.cheque_data['bank_name']\n",
        "            if bank_name in bank_count:\n",
        "                bank_count[bank_name] += 1\n",
        "            else:\n",
        "                bank_count[bank_name] = 1\n",
        "        return bank_count\n",
        "\n",
        "    def total_blocks(self):\n",
        "        \"\"\"Return the total number of blocks in the blockchain.\"\"\"\n",
        "        return len(self.chain)\n",
        "\n",
        "# Debug: Blockchain Class Initialized\n",
        "print(\"Blockchain Class Initialized.\")"
      ],
      "metadata": {
        "colab": {
          "base_uri": "https://localhost:8080/"
        },
        "id": "atnGFBM3zaI0",
        "outputId": "59c82bf2-79cf-4e21-9781-4eee5621a528"
      },
      "execution_count": 8,
      "outputs": [
        {
          "output_type": "stream",
          "name": "stdout",
          "text": [
            "Blockchain Class Initialized.\n"
          ]
        }
      ]
    },
    {
      "cell_type": "code",
      "source": [
        "# ---- Section 4: Loading Cheque Data from CSV ----\n",
        "\n",
        "def load_cheque_data_from_csv(file_path: str):\n",
        "    \"\"\"Load cheque data from a CSV file.\"\"\"\n",
        "    df = pd.read_csv(file_path)\n",
        "\n",
        "    # Ensure only relevant columns are selected\n",
        "    cheque_data = df[['CheckNumber', 'AccountNumber', 'PayeeName', 'BankName', 'IFSCCode']]\n",
        "\n",
        "    # Convert the DataFrame into a list of dictionaries\n",
        "    cheque_data_list = cheque_data.rename(columns={\n",
        "        'CheckNumber': 'check_number',\n",
        "        'AccountNumber': 'account_number',\n",
        "        'PayeeName': 'payee_name',\n",
        "        'BankName': 'bank_name',\n",
        "        'IFSCCode': 'ifsc_code'\n",
        "    }).to_dict(orient='records')\n",
        "\n",
        "    return cheque_data_list\n",
        "\n",
        "# File path for the CSV in Google Drive\n",
        "file_path = '/content/drive/MyDrive/phd/dataset/ChequeDataSetFull.csv'\n",
        "\n",
        "# Load cheque data from CSV\n",
        "cheque_data_list = load_cheque_data_from_csv(file_path)\n",
        "\n",
        "# Debug: Data Loaded from CSV\n",
        "print(f\"Loaded {len(cheque_data_list)} cheque records from CSV.\")"
      ],
      "metadata": {
        "colab": {
          "base_uri": "https://localhost:8080/"
        },
        "id": "GW3SC_vjzg2A",
        "outputId": "c8938dcc-d7e2-4f93-87ec-3b6a9667d9e0"
      },
      "execution_count": 9,
      "outputs": [
        {
          "output_type": "stream",
          "name": "stdout",
          "text": [
            "Loaded 100000 cheque records from CSV.\n"
          ]
        }
      ]
    },
    {
      "cell_type": "code",
      "source": [
        "# ---- Section 5: Initialize Blockchain ----\n",
        "\n",
        "# Initialize the blockchain\n",
        "blockchain = Blockchain()\n",
        "\n",
        "# Add cheques to the blockchain\n",
        "blockchain.add_cheques_to_blockchain(cheque_data_list)\n",
        "\n",
        "# Debug: Blockchain Initialized and Cheques Added\n",
        "print(f\"Blockchain initialized with {len(blockchain.chain)} blocks.\")"
      ],
      "metadata": {
        "colab": {
          "base_uri": "https://localhost:8080/"
        },
        "id": "xRdP0912z0uM",
        "outputId": "b9bfebba-4c80-40ec-9059-ffcbc7337828"
      },
      "execution_count": 10,
      "outputs": [
        {
          "output_type": "stream",
          "name": "stderr",
          "text": [
            "Adding Cheques to Blockchain: 100%|██████████| 100000/100000 [00:02<00:00, 34917.80cheque/s]\n"
          ]
        },
        {
          "output_type": "stream",
          "name": "stdout",
          "text": [
            "Blockchain initialized with 100001 blocks.\n"
          ]
        }
      ]
    },
    {
      "cell_type": "code",
      "execution_count": null,
      "metadata": {
        "id": "bYYhLo-0em57",
        "outputId": "4f21d1ef-a034-4368-a810-7e9a99c99727",
        "colab": {
          "base_uri": "https://localhost:8080/"
        }
      },
      "outputs": [
        {
          "output_type": "stream",
          "name": "stdout",
          "text": [
            "Menu system initialized.\n",
            "\n",
            "Menu:\n",
            "1. Print Blockchain\n",
            "2. Add Block (Manually input cheque data)\n",
            "3. Validate if Cheque is present\n",
            "4. Print Count of Blocks by Bank\n",
            "5. Exit\n",
            "Enter your choice (1/2/3/4/5): 1\n",
            "Enter the number of blocks to display: 19\n",
            "\n",
            "Displaying first 19 blocks from the blockchain:\n",
            "\n",
            "\n",
            "Block #0 (1734677059.578462)\n",
            "Check Number: 0\n",
            "Payee Name: Genesis\n",
            "Bank Name: Genesis Bank\n",
            "Account Number: 000000\n",
            "IFSC Code: 000000\n",
            "Hash: c65ad68fb0dc12c22a215cdc2b5682339ef0c1a8eed8548b03c76fa0234e1516\n",
            "\n",
            "\n",
            "Block #1 (1734677059.5884998)\n",
            "Check Number: 65782867\n",
            "Payee Name: Devika Reddy\n",
            "Bank Name: State Bank of India\n",
            "Account Number: 3156841378\n",
            "IFSC Code: SBIN0008572\n",
            "Hash: 326f588aa61ff0c6a55c503e2df27d165dcb3c61a89bad436108365a009c8d72\n",
            "\n",
            "\n",
            "Block #2 (1734677059.5885937)\n",
            "Check Number: 56855036\n",
            "Payee Name: Aanya Sharma\n",
            "Bank Name: State Bank of India\n",
            "Account Number: 7130589870\n",
            "IFSC Code: SBIN0008316\n",
            "Hash: 84b3bca0607d7e06842307786c58433e0514874262048c257c622a3fed72c7ec\n",
            "\n",
            "\n",
            "Block #3 (1734677059.5886283)\n",
            "Check Number: 56982282\n",
            "Payee Name: Arjun Chatterjee\n",
            "Bank Name: State Bank of India\n",
            "Account Number: 6628410133\n",
            "IFSC Code: SBIN0002241\n",
            "Hash: f2ba5b63a4eda3117bb935049f69cd8ece34be214163319a395662a91dad0aba\n",
            "\n",
            "\n",
            "Block #4 (1734677059.588656)\n",
            "Check Number: 21181788\n",
            "Payee Name: Ishan Joshi\n",
            "Bank Name: ICICI Bank\n",
            "Account Number: 1985965527\n",
            "IFSC Code: ICIC0005164\n",
            "Hash: b41964cf96ab8cfc82de7ce038264a5b5fabd757ddbfcc5c7703df3c3bb76b0b\n",
            "\n",
            "\n",
            "Block #5 (1734677059.5886793)\n",
            "Check Number: 13415092\n",
            "Payee Name: Arjun Das\n",
            "Bank Name: Axis Bank\n",
            "Account Number: 3275070587\n",
            "IFSC Code: UTIB0001101\n",
            "Hash: f13ba46fcda6dff34a33cc816060e732518e074c824dc2376d3046e59b2ee9c9\n",
            "\n",
            "\n",
            "Block #6 (1734677059.588702)\n",
            "Check Number: 35888921\n",
            "Payee Name: Kavya Das\n",
            "Bank Name: HDFC Bank\n",
            "Account Number: 5372136052\n",
            "IFSC Code: HDFC0007956\n",
            "Hash: 80b5a8b48a001d69e381404b52b532a67d17e309f08da3dc7c64a2eb97ac560a\n",
            "\n",
            "\n",
            "Block #7 (1734677059.5887258)\n",
            "Check Number: 26835830\n",
            "Payee Name: Kavya Kumar\n",
            "Bank Name: State Bank of India\n",
            "Account Number: 6946801258\n",
            "IFSC Code: SBIN0005529\n",
            "Hash: 470c0e92505f1764472f2383e6a5f57bd773185248c5b263a2d29a21dbd82ace\n",
            "\n",
            "\n",
            "Block #8 (1734677059.588747)\n",
            "Check Number: 93510762\n",
            "Payee Name: Devika Kumar\n",
            "Bank Name: Axis Bank\n",
            "Account Number: 4633964845\n",
            "IFSC Code: UTIB0007018\n",
            "Hash: f6cc534f380a6f5c7a08271ee2f5df99b1ee0a0c1406f288207ab99a88790ed2\n",
            "\n",
            "\n",
            "Block #9 (1734677059.588766)\n",
            "Check Number: 96419575\n",
            "Payee Name: Ananya Rao\n",
            "Bank Name: State Bank of India\n",
            "Account Number: 5021220853\n",
            "IFSC Code: SBIN0004938\n",
            "Hash: ef75f59e8e6c7dde93d7f0a2816be9d41a801e65608a34c88bb022daa024dd7f\n",
            "\n",
            "\n",
            "Block #10 (1734677059.5887854)\n",
            "Check Number: 91190292\n",
            "Payee Name: Arjun Joshi\n",
            "Bank Name: ICICI Bank\n",
            "Account Number: 9908686457\n",
            "IFSC Code: ICIC0009532\n",
            "Hash: caf2e86cfbdb1e64b322558b5ef4d7e40f8226d3b3fd2172ace9c1f99c2575e5\n",
            "\n",
            "\n",
            "Block #11 (1734677059.5888047)\n",
            "Check Number: 31732483\n",
            "Payee Name: Aanya Sharma\n",
            "Bank Name: State Bank of India\n",
            "Account Number: 8368243690\n",
            "IFSC Code: SBIN0006154\n",
            "Hash: 5c7092c78ddbd106ba9a1b31821213aca6bb4ce63c5283dfb82f6b687106a4aa\n",
            "\n",
            "\n",
            "Block #12 (1734677059.5888355)\n",
            "Check Number: 76837383\n",
            "Payee Name: Aarav Rao\n",
            "Bank Name: Bank of Baroda\n",
            "Account Number: 5282836349\n",
            "IFSC Code: BARB0006754\n",
            "Hash: bc3eb7b16806ec765e11eeeceace261c39c06fc4f43872974c4f54f0e8f384f9\n",
            "\n",
            "\n",
            "Block #13 (1734677059.5888557)\n",
            "Check Number: 88458551\n",
            "Payee Name: Aanya Das\n",
            "Bank Name: HDFC Bank\n",
            "Account Number: 9058663117\n",
            "IFSC Code: HDFC0004253\n",
            "Hash: 1d3ea6fa3076daff97a3733d224940055eb1ffdd222da7c6ebae57b149572acd\n",
            "\n",
            "\n",
            "Block #14 (1734677059.5888803)\n",
            "Check Number: 88509749\n",
            "Payee Name: Ananya Gupta\n",
            "Bank Name: Axis Bank\n",
            "Account Number: 7903030762\n",
            "IFSC Code: UTIB0004862\n",
            "Hash: 076f0a496126fcf6d7b92e3faab32302e56bbe69824f3f00f1fbc1d771463bb7\n",
            "\n",
            "\n",
            "Block #15 (1734677059.5889003)\n",
            "Check Number: 5081505\n",
            "Payee Name: Aanya Sharma\n",
            "Bank Name: Bank of Baroda\n",
            "Account Number: 4128674367\n",
            "IFSC Code: BARB0008161\n",
            "Hash: 5cc3180437287d78576daacd2a7a509195e431d7cac3f15ad11c5ed93667ce8d\n",
            "\n",
            "\n",
            "Block #16 (1734677059.5889182)\n",
            "Check Number: 14053367\n",
            "Payee Name: Aarav Gupta\n",
            "Bank Name: HDFC Bank\n",
            "Account Number: 7767864317\n",
            "IFSC Code: HDFC0006367\n",
            "Hash: d12da9680d59ac0c2d63f5f744186bc153436ae1101aab0832a26738b891dad2\n",
            "\n",
            "\n",
            "Block #17 (1734677059.5889363)\n",
            "Check Number: 85752971\n",
            "Payee Name: Ananya Chatterjee\n",
            "Bank Name: Axis Bank\n",
            "Account Number: 3135266722\n",
            "IFSC Code: UTIB0007837\n",
            "Hash: 0af88c8de592bf51857d46b553b1eb84270bb979f0be65421a08e372ea520ed4\n",
            "\n",
            "\n",
            "Block #18 (1734677059.5889566)\n",
            "Check Number: 4621373\n",
            "Payee Name: Aarav Reddy\n",
            "Bank Name: Bank of Baroda\n",
            "Account Number: 1550831554\n",
            "IFSC Code: BARB0002467\n",
            "Hash: 63d5419dc769cf75f9023bd4ee127cfb89e5f807e559c72f8da8f06f996167ac\n",
            "\n",
            "\n",
            "Menu:\n",
            "1. Print Blockchain\n",
            "2. Add Block (Manually input cheque data)\n",
            "3. Validate if Cheque is present\n",
            "4. Print Count of Blocks by Bank\n",
            "5. Exit\n",
            "Enter your choice (1/2/3/4/5): 4\n",
            "\n",
            "Total Blocks in Blockchain: 100001\n",
            "\n",
            "Count of Blocks by Bank:\n",
            "Genesis Bank: 1 blocks\n",
            "State Bank of India: 20113 blocks\n",
            "ICICI Bank: 19983 blocks\n",
            "Axis Bank: 20118 blocks\n",
            "HDFC Bank: 19894 blocks\n",
            "Bank of Baroda: 19892 blocks\n",
            "\n",
            "Menu:\n",
            "1. Print Blockchain\n",
            "2. Add Block (Manually input cheque data)\n",
            "3. Validate if Cheque is present\n",
            "4. Print Count of Blocks by Bank\n",
            "5. Exit\n"
          ]
        }
      ],
      "source": [
        "# ---- Section 6: Menu for User Input ----\n",
        "\n",
        "def display_menu():\n",
        "    \"\"\"Display the menu and handle user input.\"\"\"\n",
        "    while True:\n",
        "        print(\"\\nMenu:\")\n",
        "        print(\"1. Print Blockchain\")\n",
        "        print(\"2. Add Block (Manually input cheque data)\")\n",
        "        print(\"3. Validate if Cheque is present\")\n",
        "        print(\"4. Print Count of Blocks by Bank\")\n",
        "        print(\"5. Exit\")\n",
        "        choice = input(\"Enter your choice (1/2/3/4/5): \")\n",
        "\n",
        "        if choice == '1':\n",
        "            # Take number of blocks to print as input\n",
        "            num_blocks = int(input(\"Enter the number of blocks to display: \"))\n",
        "            blockchain.display_chain(num_blocks=num_blocks)\n",
        "\n",
        "        elif choice == '2':\n",
        "            # Manually input the fields for a new block\n",
        "            check_number = input(\"Enter Check Number: \")\n",
        "            payee_name = input(\"Enter Payee Name: \")\n",
        "            bank_name = input(\"Enter Bank Name: \")\n",
        "            account_number = input(\"Enter Account Number: \")\n",
        "            ifsc_code = input(\"Enter IFSC Code: \")\n",
        "\n",
        "            cheque_data = {\n",
        "                'check_number': check_number,\n",
        "                'payee_name': payee_name,\n",
        "                'bank_name': bank_name,\n",
        "                'account_number': account_number,\n",
        "                'ifsc_code': ifsc_code\n",
        "            }\n",
        "            blockchain.add_cheque(cheque_data)\n",
        "            print(Fore.GREEN + \"Block added successfully!\")\n",
        "\n",
        "        elif choice == '3':\n",
        "            # Manually input the fields for cheque validation\n",
        "            check_number = input(\"Enter Check Number: \")\n",
        "            payee_name = input(\"Enter Payee Name: \")\n",
        "            bank_name = input(\"Enter Bank Name: \")\n",
        "            account_number = input(\"Enter Account Number: \")\n",
        "            ifsc_code = input(\"Enter IFSC Code: \")\n",
        "\n",
        "            cheque_data = {\n",
        "                'check_number': check_number,\n",
        "                'payee_name': payee_name,\n",
        "                'bank_name': bank_name,\n",
        "                'account_number': account_number,\n",
        "                'ifsc_code': ifsc_code\n",
        "            }\n",
        "            is_valid = blockchain.validate_cheque(cheque_data)\n",
        "            if is_valid:\n",
        "                print(Fore.GREEN + \"Cheque is present in the blockchain.\")\n",
        "            else:\n",
        "                print(Fore.RED + \"Cheque is NOT present in the blockchain.\")\n",
        "\n",
        "        elif choice == '4':\n",
        "            # Print count of blocks grouped by bank and total block count\n",
        "            bank_count = blockchain.count_blocks_by_bank()\n",
        "            total_blocks = blockchain.total_blocks()\n",
        "            print(f\"\\nTotal Blocks in Blockchain: {total_blocks}\")\n",
        "            print(\"\\nCount of Blocks by Bank:\")\n",
        "            for bank, count in bank_count.items():\n",
        "                print(f\"{Fore.YELLOW}{bank}: {count} blocks\")\n",
        "\n",
        "        elif choice == '5':\n",
        "            print(\"Exiting...\")\n",
        "            break\n",
        "        else:\n",
        "            print(Fore.RED + \"Invalid choice. Please try again.\")\n",
        "\n",
        "# Debug: Menu Initialized\n",
        "print(\"Menu system initialized.\")\n",
        "\n",
        "# Start the menu\n",
        "display_menu()"
      ]
    },
    {
      "cell_type": "code",
      "source": [],
      "metadata": {
        "id": "OgePE1Vpy2bp"
      },
      "execution_count": null,
      "outputs": []
    }
  ]
}